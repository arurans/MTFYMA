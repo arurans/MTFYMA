{
 "cells": [
  {
   "cell_type": "markdown",
   "metadata": {},
   "source": [
    "# Study of numerical methods for ODEs on the Hénon-Heiles differential equation system\n",
    "# Aruran Sivashankar"
   ]
  },
  {
   "cell_type": "markdown",
   "metadata": {},
   "source": [
    "## Introduction\n",
    "\n",
    "In this report I am going to implement several numerical methods for solving ODEs and apply them on the Hénon-Heiles differential equation system to observe their properties. First we're going to show the rate of convergence for each of the methods, which are \n",
    "\n",
    "- Shampine-Bogacki method of order 3\n",
    "- Kutta's method of order 4\n",
    "- Kahan's method of order 2\n",
    "- Störmer-Verlet method of order 2\n",
    "\n",
    "For each method we are then going to determine their ability to preserve energy, and plot their Poincaré-map. In this report we will use constant step size, and assume autonomous systems only. "
   ]
  },
  {
   "cell_type": "markdown",
   "metadata": {},
   "source": [
    "## General comments\n",
    "\n",
    "I have tried to implement the numerical methods to handle a arbitrary system of differential equations, this however proved to be quite difficult for Kahan's method and Störmer-Verlet method. The implementations are still quite generally applicable, but there might be a need to modify some values in the functions. The implementations are mainly explained as text before the relevant numerical method. \n",
    "\n",
    "Hardware used for time measurement:\n",
    "- CPU: Ryzen 7 5600x (not overclocked)\n",
    "- RAM: DDR4 32GB 3600 Mhz"
   ]
  },
  {
   "cell_type": "markdown",
   "metadata": {},
   "source": [
    "### Import useful libraries"
   ]
  },
  {
   "cell_type": "code",
   "execution_count": null,
   "metadata": {},
   "outputs": [],
   "source": [
    "import numpy as np \n",
    "from scipy import integrate \n",
    "from matplotlib import pyplot as plt \n",
    "from numba import jit \n",
    "import time \n",
    "\n",
    "plt.rcParams['figure.figsize'] = [25, 10]"
   ]
  },
  {
   "cell_type": "markdown",
   "metadata": {},
   "source": [
    "## Utility functions\n",
    "\n",
    "The first function is for plotting. There are many commands that are used for every plot, and I have collected them into one function to make the code for readable. \n",
    "\n",
    "The second function is for calculating the number of times we have to call a method for a given step size and time interval. The step size will not necessarily be a multiple of the time interval, so the function calculates the step size for the last step, and every implementation calculates the last step seperately to account for the possible difference in the last step size. "
   ]
  },
  {
   "cell_type": "code",
   "execution_count": null,
   "metadata": {},
   "outputs": [],
   "source": [
    "def plotCommands(xlabel, ylabel, title, xscale = False, yscale = False, legend = False, printString = \"\"):\n",
    "    #Function containing the usual commands when plotting with matplotlib.pyplot\n",
    "    #If log-scaled x- and/or y-axis is needed, set xscale and/or yscale to True\n",
    "    #If the figure has a label, set legend = True\n",
    "    #If extra information is needed, use printString\n",
    "    plt.xlabel(xlabel)\n",
    "    plt.ylabel(ylabel)\n",
    "    plt.title(title)\n",
    "    if xscale:\n",
    "        plt.xscale('log')\n",
    "    if yscale:\n",
    "        plt.yscale('log')\n",
    "    if legend:\n",
    "        plt.legend()\n",
    "    plt.grid()\n",
    "    print('\\033[1m' + \"Figure \", plotCommands.counter)#Bold letters\n",
    "    if printString:\n",
    "        print(printString)\n",
    "    plt.show()\n",
    "    plotCommands.counter += 1\n",
    "    \n",
    "    return None\n",
    "\n",
    "def plotCommandsSubPlots(xlabel, ylabel, title):#Function when plt.subplot is used\n",
    "    plt.xlabel(xlabel)\n",
    "    plt.ylabel(ylabel)\n",
    "    plt.title(title)\n",
    "    plt.grid()\n",
    "\n",
    "    return None\n",
    "\n",
    "@jit(nopython = True)\n",
    "def create_H(t_0, t_end, h):\n",
    "    #Calculate number of iterations to compute, with a given h\n",
    "    #if remainder is not zero the last step is the remainder\n",
    "    #Otherwise the last step is h\n",
    "    ratio = (t_end - t_0)/h\n",
    "    remainder = (t_end - t_0)%h\n",
    "    n = int(ratio) + 1 #Add one to include the intial condition\n",
    "    if (remainder):\n",
    "        return (n + 1), remainder#Add 1 to n to include the last step\n",
    "    else:\n",
    "        return n, h"
   ]
  },
  {
   "cell_type": "code",
   "execution_count": null,
   "metadata": {},
   "outputs": [],
   "source": [
    "plotCommands.counter = 1 # To keep track of figure numbers"
   ]
  },
  {
   "cell_type": "markdown",
   "metadata": {},
   "source": [
    "## Implementation of Hénon-Heiles system\n",
    "\n",
    "First we are going to define the Hénon-Heiles system for each of the methods. The reason for the specific implementation choices will be explained below, but in short terms there are 4 different implementations. They are all designed to take in values by passing-by-reference instead of calculating and returning the values. This way we save both memory space and execution time. The only exception is the system for the library method, which I couldn't make work with that method, and is therefore quite slow compared to the implemented methods. It is also slow because the scipy-library will not allow the use of \"@jit(nopython = True)\" function decorator from the numba library, which compiles a given function."
   ]
  },
  {
   "cell_type": "markdown",
   "metadata": {},
   "source": [
    "The Hénon-Heiles system is a system of dimension 4 and the equations are:\n",
    "\n",
    "$$\n",
    "q_1' = p_1\\\\\n",
    "q_2' = p_2\\\\\n",
    "p_1' = -q_1(1+2q_2)\\\\\n",
    "p_2' = -(q_2 + q_1^2 - q_2^2)\n",
    "$$\n",
    "\n",
    "The shape of the y-matricies containing the solutions for the function will always be on the form:\n",
    "\n",
    "$$\n",
    "\\vec{y} = \\left[\\vec{p_1} \\quad \\vec{p_2} \\quad \\vec{q_1} \\quad \\vec{q_2}\\right]^T\n",
    "$$\n",
    "\n",
    "in the entire project. "
   ]
  },
  {
   "cell_type": "markdown",
   "metadata": {},
   "source": [
    "### Hénon-Heiles system for the scipy library method \"RK45\""
   ]
  },
  {
   "cell_type": "code",
   "execution_count": null,
   "metadata": {},
   "outputs": [],
   "source": [
    "@jit(nopython = True)\n",
    "def henon_heiles_library(t, y):#Hénon-Heiles system for the scipy library method 'RK45'\n",
    "    #The scipy-library numerical method requires both time and values as arugment, even if our equation are not explicitly time dependant\n",
    "    dp1 = -y[2]*(1 + 2*y[3])\n",
    "    dp2 = -(y[3] + y[2]**2 - y[3]**2)\n",
    "    dq1 = y[0]\n",
    "    dq2 = y[1]\n",
    "    \n",
    "    return [dp1, dp2, dq1, dq2]"
   ]
  },
  {
   "cell_type": "markdown",
   "metadata": {},
   "source": [
    "### Hénon-Heiles system for Shapmine-Bogacki and Kutta's method"
   ]
  },
  {
   "cell_type": "code",
   "execution_count": null,
   "metadata": {},
   "outputs": [],
   "source": [
    "@jit(nopython = True)\n",
    "def henon_heiles(y, Y_vec):#Hénon-Heiles system for Shapmine-Bogacki and Kutta's method\n",
    "    y2 = y[2]\n",
    "    y3 = y[3]\n",
    "    Y_vec[0] = -y2*(1 + 2*y3)\n",
    "    Y_vec[1] = -(y3 + y2**2 - y3**2)\n",
    "    Y_vec[2] = y[0]\n",
    "    Y_vec[3] = y[1]"
   ]
  },
  {
   "cell_type": "markdown",
   "metadata": {},
   "source": [
    "### Hénon-Heiles system in matrix form for Kahan's method"
   ]
  },
  {
   "cell_type": "code",
   "execution_count": null,
   "metadata": {},
   "outputs": [],
   "source": [
    "@jit(nopython = True)\n",
    "def create_A(y, h, A):\n",
    "    #Given an identity matrix fill in the rest of the values of A\n",
    "    A[0][2] = h*(y[3] + 0.5)\n",
    "    A[0][3] = h*y[2]\n",
    "    A[1][2] = h*y[2]\n",
    "    A[1][3] = h*(0.5 - y[3])\n",
    "    A[2][0] = -0.5*h\n",
    "    A[3][1] = -0.5*h\n",
    "\n",
    "@jit(nopython = True)\n",
    "def create_b(y, h, b):\n",
    "    #Given an array with the same length as y, fill in for b\n",
    "    b[0] = y[0] - 0.5*h*y[2]\n",
    "    b[1] = y[1] - 0.5*h*y[3]\n",
    "    b[2] = y[2] + 0.5*h*y[0]\n",
    "    b[3] = y[3] + 0.5*h*y[1]"
   ]
  },
  {
   "cell_type": "markdown",
   "metadata": {},
   "source": [
    "### Hénon-Heiles system adapted for Störmer-Verlet numerical method"
   ]
  },
  {
   "cell_type": "code",
   "execution_count": null,
   "metadata": {},
   "outputs": [],
   "source": [
    "@jit(nopython = True)\n",
    "def henon_heiles_SV(y, h, Y_vec, q_next):#Henon_heiles for Störmer-Verlet method\n",
    "    p1_half = y[0] + q_next[0] #0.5*h*(-y[2]*(1 + 2*y[3]))\n",
    "    q1_next = y[2] + h * p1_half\n",
    "    p2_half = y[1] + q_next[1] #0.5*h*(-(y[3] + y[2]**2 - y[3]**2))\n",
    "    q2_next = y[3] + h * p2_half\n",
    "\n",
    "    #This way we only need to calculate the function once every step besides the first\n",
    "    #The calculations that wouldv'e happened every time are commented beside the corresponding line of code\n",
    "    q_next[0] =  0.5 * h * (-q1_next*(1 + 2*q2_next))\n",
    "    q_next[1] = 0.5 * h * (-q2_next - q1_next**2 + q2_next**2)\n",
    "\n",
    "    Y_vec[0] = p1_half + q_next[0] #0.5 * h * (-q1_next*(1 + 2*q2_next))\n",
    "    Y_vec[1] = p2_half + q_next[1] #0.5 * h * (-q2_next + q1_next**2 - q2_next**2)\n",
    "    Y_vec[2] = q1_next\n",
    "    Y_vec[3] = q2_next \n",
    "\n",
    "\n",
    "@jit(nopython = True)\n",
    "def henon_heiles_SV_last(y, last_step, Y_vec, q_next):#Implementation of Störmer-Verlet for the last step\n",
    "    q_next[0] =  0.5 * last_step * (-y[2]*(1 + 2*y[3]))#We need the q-values to be calculated with the last step size\n",
    "    q_next[1] = 0.5 * last_step * (-y[3] - y[2]**2 + y[3]**2)\n",
    "\n",
    "    p1_half = y[0] + q_next[0] \n",
    "    q1_next = y[2] + last_step * p1_half\n",
    "    p2_half = y[1] + q_next[1] \n",
    "    q2_next = y[3] + last_step * p2_half\n",
    "\n",
    "    q_next[0] =  0.5 * last_step * (-q1_next*(1 + 2*q2_next))\n",
    "    q_next[1] = 0.5 * last_step * (-q2_next - q1_next**2 + q2_next**2)\n",
    "\n",
    "    Y_vec[0] = p1_half + q_next[0]\n",
    "    Y_vec[1] = p2_half + q_next[1] \n",
    "    Y_vec[2] = q1_next\n",
    "    Y_vec[3] = q2_next "
   ]
  },
  {
   "cell_type": "markdown",
   "metadata": {},
   "source": [
    "## Implementation of numerical methods"
   ]
  },
  {
   "cell_type": "markdown",
   "metadata": {},
   "source": [
    "The first method I am going to implement is the Shampine-Bogacki method. The Shampine-Bogacki method is a Runge-Kutta method of order 3. The method is defined as:\n",
    "\n",
    "$$\n",
    "F_1 = F(y_n)\\\\\n",
    "F_2 = F(y_n + \\frac{1}{2} h F_1)\\\\\n",
    "F_3 = F(y_n + \\frac{3}{4} h F_2)\\\\\n",
    "y_{n+1} = y_n + h\\left(\\frac{2}{9} F_1 + \\frac{1}{3} F_2 + \\frac{4}{9} F_3\\right)\n",
    "$$\n",
    "\n",
    "for a differential equation on the form $$y' = F(y)$$\n",
    "\n",
    "Because we are going to deal with a problem of dimension 4 we can consider y a vector:\n",
    "\n",
    "$$\\vec{y}' = F(\\vec{y})$$"
   ]
  },
  {
   "cell_type": "markdown",
   "metadata": {},
   "source": [
    "### Shampine-Bogacki method of order 3"
   ]
  },
  {
   "cell_type": "code",
   "execution_count": null,
   "metadata": {},
   "outputs": [],
   "source": [
    "#Shampine-Bogacki method\n",
    "@jit(nopython = True) \n",
    "def shampine_bogacki(t_0, t_end, y_0, h, f):\n",
    "    n, last_step = create_H(t_0, t_end, h)# Get number of iterations and the size of the last step in case (t_end - t_0)%h != 0\n",
    "\n",
    "    T = np.zeros(n) #Array containg the time for each step\n",
    "    T[0] = t_0\n",
    "\n",
    "    Y = np.zeros((len(y_0), n)) #initialize a matrix to be of the same dimension as the initial-condition\n",
    "    Y[:,0] = y_0\n",
    "    Y_vec = np.zeros((3, len(y_0)))#Our method requires 3 stored values for each step\n",
    "    \n",
    "    #Calculate with constant h up to next to last step\n",
    "    for i in range(n - 2):\n",
    "        #Pick out the correct y-values\n",
    "        y = Y[:,i]\n",
    "\n",
    "        #Calculate with the Shampine-Bogacki method\n",
    "        f(y, Y_vec[0])\n",
    "        f(y + 0.5*h*Y_vec[0], Y_vec[1])\n",
    "        f(y + 0.75*h*Y_vec[1], Y_vec[2])\n",
    "\n",
    "        #Append correct values to the Y-matrix and time-array\n",
    "        Y[:,i + 1] = y + h/9*(2 * Y_vec[0] + 3 * Y_vec[1] + 4 * Y_vec[2])\n",
    "        T[i + 1] = T[i] + h\n",
    "\n",
    "    #Use last_step as step size to calculate the last step\n",
    "    y = Y[:,-2]\n",
    "    f(y, Y_vec[0])\n",
    "    f(y + 0.5*last_step*Y_vec[0], Y_vec[1])\n",
    "    f(y + 0.75*last_step*Y_vec[1], Y_vec[2])\n",
    "\n",
    "    Y[:,-1] = y + last_step/9 * (2 * Y_vec[0] + 3 * Y_vec[1] + 4 * Y_vec[2])\n",
    "    T[-1] = T[-2] + last_step\n",
    "\n",
    "    return T, Y        "
   ]
  },
  {
   "cell_type": "markdown",
   "metadata": {},
   "source": [
    "The second method is Kutta's method, which is a Runge-Kutta method of order 4, and is defined as: \n",
    "\n",
    "$$\n",
    "F_1 = F(y_n)\\\\\n",
    "F_2 = F(y_n + \\frac{1}{2} h F_1)\\\\\n",
    "F_3 = F(y_n + \\frac{1}{2} h F_2)\\\\\n",
    "F_4 = F(y_n + h F_3)\\\\\n",
    "y_{n+1} = y_n + h\\left(\\frac{1}{6} F_1 + \\frac{1}{3} F_2 + \\frac{1}{3} F_3+\\frac{1}{6} F_4\\right)\n",
    "$$\n",
    "\n",
    "for equation on the form:\n",
    "\n",
    "$$\n",
    "\\vec{y} = F(\\vec{y})\n",
    "$$\n",
    "\n",
    "The implementation for Shampine-Bogacki and Kutta's method  is straight-forward, as we use the previous substep to evaluate the next, and this happens 3 and 4 times each step respectively. For efficiency I have chosen to pass arguments by reference to the function as explained in the \"implementation of Hénon-Heiles\" subsection."
   ]
  },
  {
   "cell_type": "markdown",
   "metadata": {},
   "source": [
    "#### Kutta's method of order 4"
   ]
  },
  {
   "cell_type": "code",
   "execution_count": null,
   "metadata": {},
   "outputs": [],
   "source": [
    "#Kutta's method\n",
    "@jit(nopython = True)\n",
    "def kuttas_method(t_0, t_end, y_0, h, f):\n",
    "    n, last_step = create_H(t_0, t_end, h)\n",
    "\n",
    "    T = np.zeros(n) #Array containg the time for each step\n",
    "    T[0] = t_0\n",
    "\n",
    "    Y = np.zeros((len(y_0), n)) #initialize a matrix to be of the same dimension as the initial-condition\n",
    "    Y[:,0] = y_0\n",
    "    Y_vec = np.zeros((4, len(y_0)))#Our method requires four stored values for each step\n",
    "\n",
    "    #Calculate with constant h up to next to last step\n",
    "    for i in range(n - 2):\n",
    "        #Pick out the correct y-values\n",
    "        y = Y[:,i]\n",
    "\n",
    "        #Calculate with the Shampine-Bogacki method\n",
    "        f(y, Y_vec[0])\n",
    "        f(y + 0.5*h*Y_vec[0], Y_vec[1])\n",
    "        f(y + 0.5*h*Y_vec[1], Y_vec[2])\n",
    "        f(y + h*Y_vec[2], Y_vec[3])\n",
    "\n",
    "        #Append correct values to the Y-matrix and time-array\n",
    "        Y[:,i + 1] = y + h/6*(Y_vec[0] + 2*Y_vec[1] + 2*Y_vec[2] + Y_vec[3])\n",
    "        T[i + 1] = T[i] + h\n",
    "    \n",
    "    #Use last_step as step size to calculate the last step\n",
    "    y = Y[:,-2]\n",
    "    f(y, Y_vec[0])\n",
    "    f(y + 0.5*last_step*Y_vec[0], Y_vec[1])\n",
    "    f(y + 0.5*last_step*Y_vec[1], Y_vec[2])\n",
    "    f(y + last_step*Y_vec[2], Y_vec[3])\n",
    "\n",
    "    Y[:,-1] = y + last_step/6*(Y_vec[0] + 2*Y_vec[1] + 2*Y_vec[2] + Y_vec[3])\n",
    "    T[-1] = T[-2] + last_step\n",
    "\n",
    "    return T, Y\n",
    "\n",
    "\n",
    "#Kutta's method with scipy library, cannot use jit\n",
    "def kuttas_method_library(t_0, t_end, y_0, f, a_tol, r_tol):\n",
    "    solution = integrate.solve_ivp(f, (t_0, t_end), y_0, method = 'RK45', atol = a_tol, rtol = r_tol, vectorized = True)\n",
    "    return solution.t, solution.y"
   ]
  },
  {
   "cell_type": "markdown",
   "metadata": {},
   "source": [
    "The third method is Kahan's method which is designed for a quadratic system of differential equations. A quadratic component can be written on the form:\n",
    "\n",
    "$$\n",
    "y_i' = \\sum_{j,k = 1}^{m} a_{ijk} y_j y_k + \\sum_{j=1}^{m}b_{ij} + c_i, \\quad i = 1,...,m\n",
    "$$\n",
    "\n",
    "Kahan's method is then defined as:\n",
    "\n",
    "$$\n",
    "\\frac{y_{i,n+1} - y_{i, n}}{h} = \\sum_{j,k = 1}^{m} a_{ijk} \\frac{y_{j,n} y_{k, n+1} + y_{j,n+1} y_{k, n}}{2} + \\sum_{j = 1}^{m} b_{ij} \\frac{y_{j,n} + y_{j, n+1}}{2} + c_i\n",
    "$$\n",
    "\n",
    "First we define the following variables:\n",
    "\n",
    "$$\n",
    "y_0 = p_1, \\quad y_1 = p_1, \\quad y_2 = q_1, \\quad y_3 = q_2\n",
    "$$\n",
    "\n",
    "and we get that the Hénon-Heiles system is:\n",
    "\n",
    "$$\n",
    "y_2' = y_0\\\\\n",
    "y_3' = y_1\\\\\n",
    "y_0' = -y_2(1+2y_3)\\\\\n",
    "y_1' = -(y_3 + y_2^2 - y_3^2)\n",
    "$$\n",
    "\n",
    "By using the definition of Kahan's method we get the following equations:\n",
    "\n",
    "$$\n",
    "y_{0,n+1} + h\\left(y_{3,n} + \\frac{1}{2}\\right)y_{2,n+1} + h y_{2,n} y_{3,n+1} = y_{0,n} - \\frac{h}{2}y_{2,n}\\\\\n",
    "y_{1,n+1} + h y_{2,n} y_{2,n+1} + h\\left(\\frac{1}{2} - y_{3,n}\\right)y_{3,n+1}  = y_{0,n} - \\frac{h}{2}y_{2,n}\\\\\n",
    "y_{2, n+1} - \\frac{h}{2}y_{0,n+1} = y_{2,n} + \\frac{h}{2} y_{0,n}\\\\\n",
    "y_{3, n+1} - \\frac{h}{2}y_{1,n+1} = y_{3,n} + \\frac{h}{2} y_{1,n}\n",
    "$$\n",
    "\n",
    "Here I have collected all the terms with $n+1$ on the same side, and we can rewrite this system of equations as the following matrices:\n",
    "\n",
    "$$\n",
    "A = \n",
    "\\begin{pmatrix} \n",
    "1 & 0 &  h\\left(y_{3,n} + \\frac{1}{2}\\right) & h y_{2,n}\\\\ \n",
    "0 & 1 & h y_{2,n} & h\\left(\\frac{1}{2} - y_{3,n}\\right)\\\\\n",
    "-\\frac{h}{2} & 0 & 1 & 0\\\\\n",
    "0 & -\\frac{h}{2} & 0 & 1\\\\\n",
    "\\end{pmatrix}\n",
    "\\quad\\quad\n",
    "b = \n",
    "\\begin{pmatrix}\n",
    "y_{0,n} - \\frac{h}{2}y_{2,n}\\\\\n",
    "y_{1,n} - \\frac{h}{2}y_{3,n}\\\\\n",
    "y_{2,n} + \\frac{h}{2}y_{0,n}\\\\\n",
    "y_{3,n} + \\frac{h}{2}y_{1,n}\\\\\n",
    "\\end{pmatrix}\n",
    "\\quad\\quad\n",
    "x = \n",
    "\\begin{pmatrix}\n",
    "y_{0, n+1}\\\\\n",
    "y_{1, n+1}\\\\\n",
    "y_{2, n+1}\\\\\n",
    "y_{3, n+1}\\\\\n",
    "\\end{pmatrix}\n",
    "$$\n",
    "\n",
    "And solve $Ax = b$ for x for each step. This is accomplished with the numpy-library function numpy.linalg.solve(A,b), which will return x. The matricies are created by calling the functions create_A and create_b, defined above. "
   ]
  },
  {
   "cell_type": "markdown",
   "metadata": {},
   "source": [
    "#### Kahans method of order 2"
   ]
  },
  {
   "cell_type": "code",
   "execution_count": null,
   "metadata": {},
   "outputs": [],
   "source": [
    "@jit(nopython = True)\n",
    "def kahans_method(t_0, t_end, y_0, h, create_A, create_b):\n",
    "    #Input are the functions that create matricies A and b\n",
    "    n, last_step = create_H(t_0, t_end, h)\n",
    "    m = len(y_0)\n",
    "\n",
    "    Y = np.zeros((m, n))\n",
    "    Y[:,0] = y_0\n",
    "\n",
    "    T = np.zeros(n)\n",
    "    T[0] = t_0\n",
    "\n",
    "    A = np.identity(m)\n",
    "    b = np.zeros(m)\n",
    "\n",
    "    #Calculate with constant h up to next to last step\n",
    "    for i in range(n - 2):\n",
    "        #Create the matrix A, and array b\n",
    "        create_A(Y[:,i], h, A)\n",
    "        create_b(Y[:,i], h, b)\n",
    "        Y[:,i+1] = np.linalg.solve(A, b)#solve and append to Y matrix containing the solutions\n",
    "        T[i+1] = T[i] + h\n",
    "\n",
    "    #Use last_step as step size to calculate the last step\n",
    "    create_A(Y[:,-2], last_step, A)\n",
    "    create_b(Y[:,-2], last_step, b)\n",
    "    Y[:,-1] = np.linalg.solve(A, b)\n",
    "    T[-1] = T[-2] + last_step\n",
    "\n",
    "    return T, Y"
   ]
  },
  {
   "cell_type": "markdown",
   "metadata": {},
   "source": [
    "Finally we have the Störmer-Verlet method which is designed for second order differential equation on the form $q'' = f(q)$, which can be rewritten as a first order system with dimension 2 by defining $p := q'$, and we get:\n",
    "\n",
    "$$\n",
    "q' = p \\quad\\quad \\text{and} \\quad\\quad p' = f(q)\n",
    "$$\n",
    "\n",
    "We can then define the Störmer-Verlet method as:\n",
    "\n",
    "$$\n",
    "p_{n + \\frac{1}{2}} = p_n + \\frac{1}{2} h f(q_n)\\\\\n",
    "q_{n + 1} = q_n +  h p_{n + \\frac{1}{2}}\\\\\n",
    "p_{n + 1} = p_{n + \\frac{1}{2}} + \\frac{1}{2} h f(q_{n + 1})\\\\\n",
    "$$\n",
    "\n",
    "Because the Hénon-Heiles system is composed of two such systems, and they depend on each other, we have to solve them in parallel. The implementation of the Hénon-Heiles system is therefore:\n",
    "\n",
    "$$\n",
    "p_{1, n + \\frac{1}{2}} = p_{1, n} + \\frac{1}{2} h f(q_{1,n},q_{2,n})\\\\\n",
    "p_{2, n + \\frac{1}{2}} = p_{2, n} + \\frac{1}{2} h f(q_{1,n},q_{2,n})\\\\\n",
    "\n",
    "q_{1, n + 1} = q_{1, n} +  h p_{1, n + \\frac{1}{2}}\\\\\n",
    "q_{2, n + 1} = q_{2, n} +  h p_{1, n + \\frac{1}{2}}\\\\\n",
    "\n",
    "\n",
    "p_{1, n + 1} = p_{1, n + \\frac{1}{2}} + \\frac{1}{2} h f(q_{1, n + 1}, q_{2, n + 1})\\\\\n",
    "p_{2, n + 1} = p_{2, n + \\frac{1}{2}} + \\frac{1}{2} h f(q_{1, n + 1}, q_{2, n + 1})\\\\\n",
    "$$\n",
    "\n",
    "For efficiency the first step only the first and last step requires two evaluations of the functions. All other steps only require 1, the last requires 2 evaluations because we potentially have a different step size for as the last step. "
   ]
  },
  {
   "cell_type": "markdown",
   "metadata": {},
   "source": [
    "#### Störmer-Verlet method of order 2"
   ]
  },
  {
   "cell_type": "code",
   "execution_count": null,
   "metadata": {},
   "outputs": [],
   "source": [
    "@jit(nopython = True)\n",
    "def stormer_verlet(t_0, t_end, y_0, h, f, f_last):\n",
    "    n, last_step = create_H(t_0, t_end, h)#Get number of steps and last step size\n",
    "\n",
    "    T = np.zeros(n)#Time\n",
    "    T[0] = t_0\n",
    "\n",
    "    Y = np.zeros((len(y_0), n)) #initialize a matrix to be of the same dimension as the initial-condition\n",
    "    Y[:,0] = y_0\n",
    "    q_next = np.array([0.5*h*(-y_0[2]*(1 + 2*y_0[3])), 0.5*h*(-y_0[3] - y_0[2]**2 + y_0[3]**2)]) #First evaluation for the first step\n",
    "\n",
    "    #Calculate with constant h up to next to last step\n",
    "    for i in range(n - 2):\n",
    "        f(Y[:,i], h, Y[:,i+1], q_next)\n",
    "        T[i + 1] = T[i] + h\n",
    "\n",
    "    #Use last_step as step size to calculate the last step, with the correct function\n",
    "    f_last(Y[:,-2], last_step, Y[:,-1], q_next)\n",
    "    T[-1] = T[-2] + last_step\n",
    "\n",
    "    return T, Y"
   ]
  },
  {
   "cell_type": "markdown",
   "metadata": {},
   "source": [
    "## Problem 1 - Test of rate of convergence"
   ]
  },
  {
   "cell_type": "markdown",
   "metadata": {},
   "source": [
    "For the test of rate of convergence for each of the methods, I have chosen to compare the methods against the library-method 'RK45' from the scipy-library. This method uses the Dormand-Prince pair formulas, and is a Runge-Kutta method of order 5 ([reference[2]](https://docs.scipy.org/doc/scipy/reference/generated/scipy.integrate.RK45.html)). For a small time interval I will solve the Hénon-Heiles system with all the numerical methods implemented. The step size will vary logarithmically from $10^{-3.9}$ to $1$. At each step size the last values for each numerical method will be compared to the library method, which will use a relative tolerance of approximately $2.22 \\cdot 10^{-14}$, which is the lowest possible tolerance allowed by the library. The difference between the two methods will determine our error, which we will see might be problematic for smaller step sizes. However this works excellently for relatively small step sizes, and for methods with lower order of convergence. As we will observe the only method with a problem for these values is Kutta's method, because of its high accuracy. \n",
    "\n",
    "The errors for each method is plotted on a loglog-plot, with a reference line with the order of method as the slope. The reference line is on the form $$k \\cdot H ^ {\\text{order of convergence}}$$. The value of k will be the right-most value for the error, so the lines line up in the plot."
   ]
  },
  {
   "cell_type": "code",
   "execution_count": null,
   "metadata": {},
   "outputs": [],
   "source": [
    "@jit(nopython = True)\n",
    "def calculate_order(h, error):\n",
    "    #This function calculated the rate of convergence for a method based on step size and error\n",
    "    n = len(h)\n",
    "    p = np.zeros(n)\n",
    "    for i in range(n-1):\n",
    "        p[i] = np.log(error[i+1]/error[i])/np.log(h[i+1]/h[i])\n",
    "    p[-1] = p[-2]#Add the last value twice, just to get an array of the same length as h\n",
    "    #This isn't important because the error for large step size is wrong anyway, we will only consider the values inbetween lower and higher values of step size\n",
    "    return p\n",
    "\n",
    "def create_initial_cond(H):\n",
    "    p2_0 = 0\n",
    "    q1_0 = 0\n",
    "    q2_0 = 0.45\n",
    "    p1_0 = np.sqrt(2/3*q2_0**3 + 2*H_0 - p2_0**2 - q1_0**2 - q2_0**2 - 2*q1_0**2*q2_0)\n",
    "\n",
    "    return np.array([p1_0, p2_0, q1_0, q2_0])\n",
    "\n"
   ]
  },
  {
   "cell_type": "code",
   "execution_count": null,
   "metadata": {},
   "outputs": [],
   "source": [
    "H_0 = 1/12 #Initial system energy\n",
    "y_0 = create_initial_cond(H_0)#Initial conditions for each of the four functions we solve for\n",
    "\n",
    "t_0 = 0#Start time\n",
    "t_end = 10#End time "
   ]
  },
  {
   "cell_type": "code",
   "execution_count": null,
   "metadata": {},
   "outputs": [],
   "source": [
    "a_tol = 1e-17\n",
    "r_tol = 2.220446049250313e-14#Lowest possible r_tol\n",
    "\n",
    "number_of_test = 70 #Number of steps between first and last step_size\n",
    "h_arr = np.logspace(-3.9, 0, number_of_test)#Create an array of various step sizes, that scale logarithmically\n",
    "SB_error = np.zeros(number_of_test)#Error of Shampine-Bogacki method\n",
    "kutta_error = np.zeros(number_of_test)#Error of Kutta's method\n",
    "kahans_error = np.zeros(number_of_test)#Error of Kahan's method\n",
    "SV_error = np.zeros(number_of_test)#Error of Störmer-Verlet method\n",
    "\n",
    "\n",
    "t_library_Kutta, y_library_Kutta            =       kuttas_method_library(t_0, t_end, y_0, henon_heiles_library, a_tol, r_tol)   #Library 4th order Runge-Kutta method (reference method)\n",
    "\n",
    "for i in range(number_of_test):\n",
    "    t_implemented_SB, y_implemented_SB          =       shampine_bogacki(t_0, t_end, y_0, h_arr[i], henon_heiles)               #Implemented Shampine-Bogacki method\n",
    "    t_implemented_Kutta, y_implemented_Kutta    =       kuttas_method(t_0, t_end, y_0, h_arr[i], henon_heiles)                  #Implemented Kutta's method\n",
    "    t_implemented_kahans, y_implemented_kahans  =       kahans_method(t_0, t_end, y_0, h_arr[i], create_A, create_b)            #Implemented Kahan's method\n",
    "    t_implemented_SV, y_implemented_SV          =       stormer_verlet(t_0, t_end, y_0, h_arr[i], henon_heiles_SV, henon_heiles_SV_last)    #Implmented Störmer-Verlet method\n",
    "\n",
    "    #Append the errors of each method to the corresponding error-array\n",
    "    SB_error[i] = np.linalg.norm(y_implemented_SB[:,-1] - y_library_Kutta[:,-1])\n",
    "    kutta_error[i] = np.linalg.norm(y_implemented_Kutta[:,-1] - y_library_Kutta[:,-1])\n",
    "    kahans_error[i] = np.linalg.norm(y_implemented_kahans[:,-1] - y_library_Kutta[:,-1])\n",
    "    SV_error[i] = np.linalg.norm(y_implemented_SV[:,-1] - y_library_Kutta[:,-1])"
   ]
  },
  {
   "cell_type": "markdown",
   "metadata": {},
   "source": [
    "As"
   ]
  },
  {
   "cell_type": "code",
   "execution_count": null,
   "metadata": {},
   "outputs": [],
   "source": [
    "#Plot error of Bogacki-Shampine method\n",
    "plt.plot(h_arr, SB_error, c = \"r\", label = \"Shampine-Bogacki method error\")\n",
    "plt.plot(h_arr, SB_error[-1] * h_arr ** 3, \".b\", label = \"Line with slope 3\")\n",
    "plotCommands(\"Step size h\", \"Error\", \"Rate of convergence test, Shampine-Bogacki method\", xscale=True, yscale=True, legend=True)"
   ]
  },
  {
   "cell_type": "markdown",
   "metadata": {},
   "source": [
    "As we can see from $\\bf{\\text{Figure 1}}$ the Shampine-bogacki method is correctly implemented as a method of order 3. We can observe that because the (dotted) refernce line with slope 3 is parallel to the error-line. The reason for why the actual error line is a bit above the reference line can be explained by error for large step size, h (here 1), because I am using the last value to determine the constant for the line as explained earlier. "
   ]
  },
  {
   "cell_type": "code",
   "execution_count": null,
   "metadata": {},
   "outputs": [],
   "source": [
    "#Plot error of Kutta's method\n",
    "plt.plot(h_arr, kutta_error, c = \"r\", label = \"Kutta's method error\")\n",
    "plt.plot(h_arr, kutta_error[-1] * h_arr ** 4, \".b\", label = \"Line with slope 4\")\n",
    "plotCommands(\"Step size h\", \"Error\", \"Rate of convergence test Kutta's method\", xscale=True, yscale=True, legend=True)"
   ]
  },
  {
   "cell_type": "markdown",
   "metadata": {},
   "source": [
    "$\\bf{\\text{Figure 2}}$ shows us rate of convergence for Kutta's method, which is quite obviously 4. We can observe that the line of error is parallel to the line with slop 4. The reason for the inaccuracies for $h < 10^{-3}$ is because of the limitations of the 'RK45' method from the scipy library. As I mentioned earlier, the lowest possible relative tolerance was of order $10^{-14}$, and we can observe that the error analysis only gets inaccurate when the error apporaches said value. "
   ]
  },
  {
   "cell_type": "code",
   "execution_count": null,
   "metadata": {},
   "outputs": [],
   "source": [
    "#Plot error of Kahan's method\n",
    "plt.plot(h_arr, kahans_error, c = \"r\", label = \"Kahan's method error\")\n",
    "plt.plot(h_arr, kahans_error[-1] * h_arr ** 2, \".b\", label = \"Line with slope 2\")\n",
    "plotCommands(\"Step size h\", \"Error\", \"Rate of convergence test Kahan's method\", xscale=True, yscale=True, legend=True)"
   ]
  },
  {
   "cell_type": "markdown",
   "metadata": {},
   "source": [
    "It is very clear from $\\bf{\\text{Figure 3}}$ that Kahan's method is of order 2, as it is parallel to the line with slope 2."
   ]
  },
  {
   "cell_type": "code",
   "execution_count": null,
   "metadata": {},
   "outputs": [],
   "source": [
    "#Plot error of Störmer-Verlet method\n",
    "plt.plot(h_arr, SV_error, c = \"r\", label = \"Störmer-Verlet method error\")\n",
    "plt.plot(h_arr, SV_error[-1] * h_arr ** 2, \".b\", label = \"Line with slope 2\")\n",
    "plotCommands(\"Step size h\", \"Error\", \"Rate of convergence test Störmer-Verlet method\", xscale=True, yscale=True, legend=True)"
   ]
  },
  {
   "cell_type": "markdown",
   "metadata": {},
   "source": [
    "Because of the same reasons as above, $\\bf{\\text{Figure 4}}$ shows us that Störmer-Verlet method is of order 2. "
   ]
  },
  {
   "cell_type": "code",
   "execution_count": null,
   "metadata": {},
   "outputs": [],
   "source": [
    "p_SB = calculate_order(h_arr, SB_error)#Calculate order of Shampine-Bogacki method\n",
    "p_kutta = calculate_order(h_arr, kutta_error)#Calculate order of Kutta's method\n",
    "p_kahans = calculate_order(h_arr, kahans_error)#Calculate order of Kahan's method\n",
    "p_SV = calculate_order(h_arr, SV_error)#Calculate order of Störmer-Verlet method\n",
    "\n",
    "plt.plot(h_arr, p_SB, label = \"Shampine-Bogacki method order\")\n",
    "plt.plot(h_arr, p_kutta, label = \"Kutta's method order\")\n",
    "plt.plot(h_arr, p_kahans, label = \"Kahan's method order\")\n",
    "plt.plot(h_arr, p_SV, label = \"Störmer-Verlet method order\")\n",
    "plotCommands(\"Step size h\", \"Rate of convergence p\", \"Rate of convergence for various numerical methods\", xscale = True, legend=True)"
   ]
  },
  {
   "cell_type": "markdown",
   "metadata": {},
   "source": [
    "Because we have the following relations between the error for two subsequent step sizes, and the order:\n",
    "\n",
    "$$\n",
    "E(h_1) \\approx C h_1^p, \\quad\\quad E(h_2)\\approx C h_2 ^p\n",
    "$$\n",
    "\n",
    "with p as the rate of convergence for the corresponding method, we can combine them and get the following relation:\n",
    "\n",
    "$$\n",
    "p \\approx \\frac{\\ln\\left(\\frac{E(h_2)}{E(h_1)}\\right)}{\\ln\\left(\\frac{h_2}{h_1}\\right)}\n",
    "$$\n",
    "\n",
    "This is what is plotted above in $\\bf{\\text{Figure 5}}$. The most relevant part for every method is the plot between step sizes $\\approx 10^{-3}$ and $\\approx 10^{-1}$. For large step sizes this is wrong because, the original assumption that $E(h) \\approx C h^p$ assumes $\\lim_{h \\rightarrow 0}$ [1]. For lower values we have an error because our reference solution (with the scipy library method 'RK45') is not accurate enough. \n",
    "\n",
    "As we can see Kutta's method is of order 4, Shampine-Bogacki of order 3, and Kahan's and Störmer-Verlet of order 2.\n",
    "\n",
    "$\\bf{\\text{NOTE:}}$ Because the values for large values of h are inaccurate, I have appended the last calculated value for p twice for every method to match the array sizes, and make it easier to plot the results. As explained above, this does not affect the conclusion."
   ]
  },
  {
   "cell_type": "markdown",
   "metadata": {},
   "source": [
    "## Problem 2 - Properties of the numerical methods applied on the Hamiltonian of the Hénon-Heiles system\n"
   ]
  },
  {
   "cell_type": "markdown",
   "metadata": {},
   "source": [
    "In this section of the report we are going to discuss the properties of each method, by applying them on the Hamiltonian of the Hénon-Heiles system. The Hamiltonian of the Hénon-Heiles system is:\n",
    "\n",
    "$$\n",
    "H(q,p) = \\frac{1}{2}\\left(p_1^2 + p_2^2\\right) + U(q)\n",
    "$$\n",
    "\n",
    "where $U(q)$ is the potential energy, and is defined as:\n",
    "\n",
    "$$\n",
    "U(q) = \\frac{1}{2} (q_1^2 + q_2^2) + \\lambda(q_1^2 q_2 - \\frac{1}{3} q_2^3)\n",
    "$$\n",
    "\n",
    "with $\\lambda = 1$ in this project.\n",
    "\n",
    "$\\bf{\\text{NOTE: }}$ The orange lines are the reference line $H_0$ to show what the constant energy should have been, while the blue graphs show the numerical methods. This applies to all the figures with subplots of each numerical method under this section (problem 2). I couldn't add labels without slowing down the computation time significantly.\n"
   ]
  },
  {
   "cell_type": "code",
   "execution_count": null,
   "metadata": {},
   "outputs": [],
   "source": [
    "@jit(nopython = True)\n",
    "def Hamiltonian(Y):#Define the Hamiltonian in our problem\n",
    "    return 0.5 * (Y[0]**2 + Y[1]**2) + 0.5 * (Y[2]**2 + Y[3]**2) + Y[2]**2 * Y[3] - 1/3 * Y[3]**3"
   ]
  },
  {
   "cell_type": "code",
   "execution_count": null,
   "metadata": {},
   "outputs": [],
   "source": [
    "def calculate_all_methods(t_0, t_end, h, H, showTime = False):#Calculate and return the values for [p1,p2,q1,q2] for all the methods\n",
    "    y_0 = create_initial_cond(H)\n",
    "\n",
    "    t_SB, y_SB = shampine_bogacki(t_0, t_end, y_0, h, henon_heiles)\n",
    "    t_kutta, y_kutta = kuttas_method(t_0, t_end, y_0, h, henon_heiles)\n",
    "    t_SV, y_SV = stormer_verlet(t_0, t_end, y_0, h, henon_heiles_SV, henon_heiles_SV_last)\n",
    "    t_kahans, y_kahans = kahans_method(t_0, t_end, y_0, h, create_A, create_b)\n",
    "\n",
    "    return t_SB, y_SB, t_kutta, y_kutta, t_SV, y_SV, t_kahans, y_kahans\n",
    "\n",
    "def plot_all_methods(t_SB, y_SB, t_kutta, y_kutta, t_SV, y_SV, t_kahans, y_kahans, N = 10):#Plot all the method's results in one coordinate system\n",
    "    #We calculate with much smaller time intervals, than we plot, because matplotlib-library is pretty slow\n",
    "    plt.figure(figsize = (25,10))\n",
    "    H1 = Hamiltonian(y_SB)[::N]\n",
    "    H2 = Hamiltonian(y_kutta)[::N]\n",
    "    H3 = Hamiltonian(y_SV)[::N]\n",
    "    H4 = Hamiltonian(y_kahans)[::N]\n",
    "\n",
    "    plt.plot(t_SB[::N], H1, label = \"Shampine-Bogacki method\")\n",
    "    plt.plot(t_kutta[::N], H2, label = \"Kutta's method\")\n",
    "    plt.plot(t_SV[::N], H3, label = \"Störmer-Verlet method\")\n",
    "    plt.plot(t_kahans[::N], H4, label = \"Kahan's method\")\n",
    "    plotCommands(\"Time [s]\", \"H(q,p)\", \"Plot of the H(p,q) for various numerical methods\", legend = True)\n",
    "\n",
    "def plot_all_methods_subplot(t_SB, y_SB, t_kutta, y_kutta, t_SV, y_SV, t_kahans, y_kahans, H_0, N = 10):\n",
    "    #Plot every method as subplots in the same figure\n",
    "    #The plots show the deviation of a particular numerical method, from the correct value\n",
    "    H1 = Hamiltonian(y_SB)[::N]\n",
    "    H2 = Hamiltonian(y_kutta)[::N]\n",
    "    H3 = Hamiltonian(y_SV)[::N]\n",
    "    H4 = Hamiltonian(y_kahans)[::N]\n",
    "\n",
    "    fig, ax = plt.subplots(2, 2, figsize = (15,15))\n",
    "    fig.suptitle(\"Error of Hamiltonian for Hénon-Heiles system for different numerical methods\")\n",
    "    \n",
    "    ax[0, 0].plot(t_SB[::N], H1, label = \"Numerical results\")\n",
    "    ax[0, 0].plot(t_SB[::N], [H_0]*len(t_SB[::N]), label = r\"$H_0$ = \" + f\"{H_0:.3f}\")#Reference line for what the energy should be if the method preserved it\n",
    "    ax[0, 0].set_title(\"Shampine-Bogacki\")\n",
    "\n",
    "    ax[0, 1].plot(t_kutta[::N], H2, label = \"Numerical results\")\n",
    "    ax[0, 1].plot(t_kutta[::N], [H_0]*len(t_kutta[::N]), label = r\"$H_0$ = \" + f\"{H_0:.3f}\")\n",
    "    ax[0, 1].set_title(\"Kutta\")\n",
    "\n",
    "    ax[1, 0].plot(t_SV[::N], H3, label = \"Numerical results\")\n",
    "    ax[1, 0].plot(t_SV[::N], [H_0]*len(t_SV[::N]), label = r\"$H_0$ = \" + f\"{H_0:.3f}\")\n",
    "    ax[1, 0].set_title(\"Störmer-Verlet\")\n",
    "\n",
    "    ax[1, 1].plot(t_kahans[::N], H4, label = \"Numerical results\")\n",
    "    ax[1, 1].plot(t_kahans[::N], [H_0]*len(t_kahans[::N]), label = r\"$H_0$ = \" + f\"{H_0:.3f}\")\n",
    "    ax[1, 1].set_title(\"Kahan\")\n",
    "\n",
    "    for a in ax.flat:\n",
    "        a.set(xlabel=\"Time [s]\", ylabel=\"H(q,p)\")\n",
    "\n",
    "    for i in range(2):\n",
    "        for j in range(2):\n",
    "            ax[i, j].ticklabel_format(useOffset=False)\n",
    "            ax[i, j].grid()\n",
    "    \n",
    "    print('\\033[1m' + \"Figure \", plotCommands.counter)#Bold letters\n",
    "    plotCommands.counter += 1\n",
    "    plt.show()"
   ]
  },
  {
   "cell_type": "code",
   "execution_count": null,
   "metadata": {},
   "outputs": [],
   "source": [
    "H_0 = 1/12\n",
    "t_0 = 0\n",
    "t_end = 3e5\n",
    "h = 0.1\n",
    "\n",
    "t_SB, y_SB, t_kutta, y_kutta, t_SV, y_SV, t_kahans, y_kahans = calculate_all_methods(t_0, t_end, h, H_0)\n",
    "plot_all_methods(t_SB, y_SB, t_kutta, y_kutta, t_SV, y_SV, t_kahans, y_kahans)\n",
    "plot_all_methods_subplot(t_SB, y_SB, t_kutta, y_kutta, t_SV, y_SV, t_kahans, y_kahans, H_0)"
   ]
  },
  {
   "cell_type": "markdown",
   "metadata": {},
   "source": [
    "From $\\bf{\\text{Figure 6}}$ above we can observe that neither the Shampine-Bogacki method nor Kutta's method preserves the energy of the system. This is apparent because of the long time interval ($h = 0.1$s (time step), $T = 3 \\cdot 10^5$s). While Kahan's method and Störmer-Verlet method oscillates around $H_0$, the other methods drift away from the constant value. "
   ]
  },
  {
   "cell_type": "markdown",
   "metadata": {},
   "source": [
    "$\\bf{\\text{Figure 7}}$ shows the deviation of the numerical results compared to $H_0$. The orange line is $H_0$, and the blue graph is the numerical results in every such plot. From this figure we can observe how much each method deviates. As we discussed earlier, the Hamiltonian oscillates around $H_0$ for Kahan's method and Störmer-Verlet."
   ]
  },
  {
   "cell_type": "code",
   "execution_count": null,
   "metadata": {},
   "outputs": [],
   "source": [
    "H_0 = 1/12\n",
    "t_0 = 0\n",
    "t_end = 3e5\n",
    "h = 0.01\n",
    "\n",
    "#I want to time the different numerical methods once, to get an idea of their computation time. This is the choice because of the number of iterations\n",
    "t = time.time()\n",
    "t_SB, y_SB = shampine_bogacki(t_0, t_end, y_0, h, henon_heiles)\n",
    "print(\"Shampine-Bogacki method time: \", time.time() - t, \"s\")\n",
    "\n",
    "t = time.time()\n",
    "t_kutta, y_kutta = kuttas_method(t_0, t_end, y_0, h, henon_heiles)\n",
    "print(\"Kutta's method time: \", time.time() - t, \"s\")\n",
    "\n",
    "t = time.time()\n",
    "t_kahans, y_kahans = kahans_method(t_0, t_end, y_0, h, create_A, create_b)\n",
    "print(\"Kahan's method time: \", time.time() - t, \"s\")\n",
    "\n",
    "t = time.time()\n",
    "t_SV, y_SV = stormer_verlet(t_0, t_end, y_0, h, henon_heiles_SV, henon_heiles_SV_last)\n",
    "print(\"Störmer-Verlet method time: \", time.time() - t, \"s\")\n",
    "\n",
    "plot_all_methods(t_SB, y_SB, t_kutta, y_kutta, t_SV, y_SV, t_kahans, y_kahans)\n",
    "plot_all_methods_subplot(t_SB, y_SB, t_kutta, y_kutta, t_SV, y_SV, t_kahans, y_kahans, H_0)"
   ]
  },
  {
   "cell_type": "markdown",
   "metadata": {},
   "source": [
    "However from $\\bf{\\text{Figure 8}}$ we can observe that with a smaller time step $h = 0.01$ (over the same time interval $T = 3\\cdot10^5$s), Kutta's method seems to be accurate and is indistinguishable from the calculated results with Kahan's and Störmer-Verlet method. This shows that Kutta's method and the Shampine-Bogacki can be accurate over longer time intervals T, given sufficiently small time steps. The problem is that we can always choose a time interval such that the energy of the systems calculated with the Shampine-Bogacki method and Kutta's method will drift. When we deal with very long time intervals, it most likely will not be practial to use such small time steps. Therefore Störmer-Verlet and Kahan's method are preferable in these situations, even if Shampine-Bogacki and Kutta's method are of higher order. "
   ]
  },
  {
   "cell_type": "code",
   "execution_count": null,
   "metadata": {},
   "outputs": [],
   "source": [
    "H_0 = 1/12\n",
    "t_0 = 0\n",
    "t_end = 3e3\n",
    "h = 0.01\n",
    "t_SB, y_SB, t_kutta, y_kutta, t_SV, y_SV, t_kahans, y_kahans = calculate_all_methods(t_0, t_end, h, H_0)\n",
    "plot_all_methods(t_SB, y_SB, t_kutta, y_kutta, t_SV, y_SV, t_kahans, y_kahans)\n",
    "plot_all_methods_subplot(t_SB, y_SB, t_kutta, y_kutta, t_SV, y_SV, t_kahans, y_kahans, H_0)"
   ]
  },
  {
   "cell_type": "markdown",
   "metadata": {},
   "source": [
    "$\\bf{\\text{Figure 10}}$ and $\\bf{\\text{Figure 11}}$ shows the results for $T = 3000$s ($ = 50$ minutes) and $h = 0.01$s. The energy drift as a result of Kutta's method is smaller than the oscillations in Störmer-Verlet and Kahan's method. There are a lot of systems studied in physics where 50 minutes is a lot, and where it is affordable to use smaller time steps to get more accurate results. The Shampine-Bogacki and Kutta's method are suited for such calculations, especially Kutta's method, which only uses a bit more time and computational power than the Shampine-bogacki method, but in return is much more accurate. Both Kahan's method and Störmer-Verlet method are less accurate than the other methods, and is not suited for calculations over such small time intervals. This is also shown in $\\bf{\\text{Figure 12}}$ and $\\bf{\\text{Figure 13}}$ for very small time intervals. "
   ]
  },
  {
   "cell_type": "code",
   "execution_count": null,
   "metadata": {},
   "outputs": [],
   "source": [
    "H_0 = 1/12\n",
    "t_0 = 0\n",
    "t_end = 30\n",
    "h = 0.01\n",
    "t_SB, y_SB, t_kutta, y_kutta, t_SV, y_SV, t_kahans, y_kahans = calculate_all_methods(t_0, t_end, h, H_0)\n",
    "plot_all_methods_subplot(t_SB, y_SB, t_kutta, y_kutta, t_SV, y_SV, t_kahans, y_kahans, H_0)"
   ]
  },
  {
   "cell_type": "markdown",
   "metadata": {},
   "source": [
    "We can observe from $\\bf{\\text{Figure 12}}$ ($h = 0.01$s, $T = 30$s) that for very small time intervals, even Kutta's method oscillates very heavily. The values it oscillates between, however, are more accurate than the Shampine-Bogacki method.  In addition we can decrease the time step to prevent the oscillations, like shown below in $\\bf{\\text{Figure 13}}$ ($h = 0.001$s, $T = 30$s).\n",
    "\n",
    "The only advantages of Shampine-Bogacki method is that it requires fewer function evaluations per step, and is therefore suited for adaptive stepsize calculations. However, for such small time intervals, the computation power required is very small. Above $\\bf{\\text{Figure 8}}$ the time required to compute each method is noted. We see that for $3 \\cdot 10^7$ iterations, the time difference between Shampine-Bogacki method and Kutta's method is not too large. We can also notice that Kahan's method is much slower than the Störmer-Verlet method as it has to solve a system of linear equations at each step, while the Störmer-Verlet method only have 1 function evaluation at each step (except the first and last). Keep in mind that there are sources of error in this, as I for instance could have potentially implemented one or more of the methods more efficiently than others. But the results give us a general idea of the expected computation time. "
   ]
  },
  {
   "cell_type": "code",
   "execution_count": null,
   "metadata": {},
   "outputs": [],
   "source": [
    "H_0 = 1/12\n",
    "t_0 = 0\n",
    "t_end = 30\n",
    "h = 0.001\n",
    "t_SB, y_SB, t_kutta, y_kutta, t_SV, y_SV, t_kahans, y_kahans = calculate_all_methods(t_0, t_end, h, H_0)\n",
    "plot_all_methods_subplot(t_SB, y_SB, t_kutta, y_kutta, t_SV, y_SV, t_kahans, y_kahans, H_0)"
   ]
  },
  {
   "cell_type": "markdown",
   "metadata": {},
   "source": [
    "We can observe that even if the range Kahan's method and Störmer-Verlet oscillates between decreases, as we decrease $h$, there still is oscillation present. For short time intervals we want more accurate results, and will more often than not be better off with either Shampine-bogacki or Kutta's method for example. "
   ]
  },
  {
   "cell_type": "markdown",
   "metadata": {},
   "source": [
    "### What causes the energy drift in some numerical methods?\n",
    "\n",
    "We have noticed that none of the four numerical methods used above are energy-preserving. However both the Störmer-Verlet method and Kahan's method seems to preserve some form of the initial energy. We will first study why the Störmer-Verlet method seems to do so.\n",
    "\n",
    "The Störmer-Verlet method is a symplectic numerical method \\[3(p.190)\\]. Symplectic methods conserves the Hamiltonian properties of ordinary differential equations \\[3 p.187\\] (we can consider the solution of a differential equation to be a transformation of the initial conditions \\[1\\], and symplectic transformations conserves these properties). Symplectic methods does not conserve the energy of the actual Hamiltonian, but rather a perturbed energy of the perturbed Hamiltonian. \n",
    "\n",
    "Kahan's method might preserve energy under certain circumstances \\[4\\]. According to the paper: \"When the vector field is Hamiltonian on either a symplectic vectorspace or a Poisson vector space with constant Poisson structure,  the map determined by this discretization has a conserved modified Hamiltonian\\[...\\]\". Because the Hénon-Heiles system seems to preserve some form of the energy (by oscillating around the actual energy, similar to the result calculated by the Störmer-Verlet method), it might be reasonable to conclude that our problem satisfies these conditions. This implies that it is not always appropriate to use Kahan's method when dealing with long time frames. We first have to check if the conditions are met. This method, however, is a implicit method and is therefore generally more stable than the other methods presented in this report. \n",
    "\n",
    "Unfortunately I have not been able to find a rigorous source for whether Shampine-Bogacki and Kutta's method are symplectic or not, but according to this wikipedia-article [5](https://en.wikipedia.org/wiki/Symplectic_integrator#Introduction): \"Most of the usual numerical methods, like the primitive Euler scheme and the classical Runge–Kutta scheme, are not symplectic integrators.\". This coupled with our results, and the fact that both are Runge–Kutta methods, suggests that neither of the methods are symplectic. Otherwise there should have been some form of energy preservation. "
   ]
  },
  {
   "cell_type": "markdown",
   "metadata": {},
   "source": [
    "### Conclusion - problem 2\n",
    "\n",
    "The conclusion is that a numerical method of higher order does not necessarily mean more accurate results. We have to take several factors into consideration when choosing a numerical method for a given problem. In our case we have shown that Shampine-Bogacki method and Kutta's method are quite accurate over relatively small time frames. When dealing with systems that operate over large time intervals, the accuracy at a specific point is less important than the stability of the method over the whole inerval. "
   ]
  },
  {
   "cell_type": "markdown",
   "metadata": {},
   "source": [
    "## Problem 3 - Poincaré mapping of the Hénon-Heiles system for different numerical methods"
   ]
  },
  {
   "cell_type": "markdown",
   "metadata": {},
   "source": [
    "Poncaré-mapping is often used to analyze dynamic, larger dimension, systems in simpler terms. The first main reason for calculating the Poincaré-map of the Hénon-Heiles system, was to determine if there existed a third invariant\\[3\\].In our case we are going to map all the times $q_1$ in system equals 0, while $p_1 > 0$. \n",
    "\n",
    "The method for calculating the Poncaré-map is to iterate through our system and notice when $q_1 = 0$ and $p_1 > 0$. Then we will use interpolation to calculate more accurate values of $q_2$ and $p_2$ which we then will scatter plot in a 2D-coordinate system, thus making it easier to analyze our 4-dimensional system. We will use linear interpolation:\n",
    "\n",
    "We know that there exists exactly one line through the two points $(t_i, q_{1,i})$ and $(t_{i-1}, q_{1,i-1})$.\n",
    "\n",
    "$$\n",
    "P_1(t) = q_{1, i} \\frac{t - t_{i-1}}{t_{i} - t_{i-1}} + q_{1, i-1} \\frac{t_{} - t_{i-1}}{t_{i} - t_{i-1}}\n",
    "$$\n",
    "\n",
    "Here we will define a parameter $\\lambda$ with $t = t_i + \\lambda h$, and it tells us how much the interpolated point is weighted toward each of the two points we use. For $\\lambda = 0$ it is on $(t_{i-1}, q_{1,i-1})$ and on $(t_i, q_{1,i})$ for $\\lambda = 1$. And we end up with:\n",
    "\n",
    "$$\n",
    "P_1(t) = \\lambda q_{1, i} + (1 - \\lambda) q_{1, i-1} = 0 \\quad\\quad (\\text{because we want } q_1 = 0)\n",
    "$$\n",
    "\n",
    "We will solve for $\\lambda$. Because we are dealing with the same time intervals for $q_1, p_1, q_2, p_2$, we can use the same $\\lambda$ for every variable. And we solve the equation above for the wanted variable, where the interpolated point is the unknown, and not $\\lambda$. However we will only calculate the values of interest, which are $(q_2, p_2)$.\n",
    "\n"
   ]
  },
  {
   "cell_type": "code",
   "execution_count": null,
   "metadata": {},
   "outputs": [],
   "source": [
    "#Given an array with the same shape as the Y-matricies returned from the numerical methods\n",
    "#Find the Poincaré-map\n",
    "#The shape is [[q2_n],[p2_n]]\n",
    "def poincare(Y):\n",
    "    size = len(Y[0])\n",
    "    p_vec = np.zeros((2,1))#Vector containg the intersecting points, [q2_vec, p2_vec], I couldn't get np.empty to work, so I am deleting the first column later\n",
    "    for i in range(1, size):#We know the intital condition, and therefore know that there is no intersection at the first step, we always choose p_1 to be positive at t_0\n",
    "        if (Y[:,i][0] > 0 and Y[:,i][2]*Y[:,i-1][2] < 0):#Check if p_1 > 0 and if the sign of q_1 changes\n",
    "            lam = Y[:,i-1][2]/(Y[:,i-1][2] - Y[:,i][2])#Lambda for interpolation\n",
    "            p_vec = np.append(p_vec, [[lam * Y[:,i][3] + (1 - lam) * Y[:,i-1][3]], [lam * Y[:,i][1] + (1 - lam) * Y[:,i-1][1]]], axis = 1)#Actual interpolation, as described above\n",
    "\n",
    "    p_vec = np.delete(p_vec, 0, axis = 1)#Delete the first column with (0,0), because we are using np.zeros()\n",
    "    return p_vec#Returns all the values of q_2 as the first array and p_2 as second array\n",
    "\n",
    "def poincare_allmethods(H_0, t_0, t_end_arr, h_arr, colours, labels):\n",
    "    #Calculate and plot poincare for different time intervals and step sizes for a given H_0\n",
    "    fig, ax = plt.subplots(2, 2, figsize = (15,15))\n",
    "    fig.suptitle(\"Poincaré-map with \" + r\"$H_0$ = \" + f\"{H_0:.3f}\")\n",
    "    for i in range(len(h_arr)):\n",
    "        c = colours[i]\n",
    "        t_end = t_end_arr[i]\n",
    "        h = h_arr[i]\n",
    "        lab = labels[i]\n",
    "\n",
    "        t_SB, y_SB, t_kutta, y_kutta, t_SV, y_SV, t_kahans, y_kahans = calculate_all_methods(t_0, t_end, h, H_0)\n",
    "        p_SB = poincare(y_SB)\n",
    "        p_kutta = poincare(y_kutta)\n",
    "        p_kahans = poincare(y_kahans)\n",
    "        p_SV = poincare(y_SV)\n",
    "\n",
    "        ax[0, 0].scatter(p_SB[0], p_SB[1], color = c, label = lab)\n",
    "        ax[0, 1].scatter(p_kutta[0], p_kutta[1], color = c, label = lab)\n",
    "        ax[1, 0].scatter(p_kahans[0], p_kahans[1], color = c, label = lab)\n",
    "        ax[1, 1].scatter(p_SV[0], p_SV[1], color = c, label = lab)\n",
    "\n",
    "    ax[0, 0].set_title('Poincaré-map Shampine-Bogacki')\n",
    "    ax[0, 1].set_title('Poincaré-map Kutta')\n",
    "    ax[1, 0].set_title('Poincaré-map Kahan')\n",
    "    ax[1, 1].set_title('Poincaré-map Störmer-Verlet')\n",
    "\n",
    "    for a in ax.flat:\n",
    "        a.set(xlabel=r\"$q_2$\", ylabel=r\"$p_2$\")\n",
    "\n",
    "    for i in range(2):\n",
    "        for j in range(2):\n",
    "            ax[i, j].ticklabel_format(useOffset=False)\n",
    "            ax[i, j].grid()\n",
    "            ax[i, j].legend()\n",
    "        \n",
    "    print('\\033[1m' + \"Figure \", plotCommands.counter)#Bold letters\n",
    "    plotCommands.counter += 1\n",
    "    plt.show()"
   ]
  },
  {
   "cell_type": "code",
   "execution_count": null,
   "metadata": {},
   "outputs": [],
   "source": [
    "t_0 = 0\n",
    "t_end_arr = [1e3, 1e4, 1e5, 1e6]\n",
    "h_arr = [0.0001, 0.001, 0.01, 0.1]\n",
    "colours = [\"darkorange\", \"crimson\", \"lightgreen\", \"lightcyan\"]\n",
    "labels = [\"T = 1e3s & h = 0.0001s\", \"T = 1e4s & h = 0.001s\", \"T = 1e5s & h = 0.01s\", \"T = 1e6s & h = 0.1s\"]\n",
    "H_0 = 1/12\n",
    "poincare_allmethods(H_0, t_0, t_end_arr, h_arr, colours, labels)"
   ]
  },
  {
   "cell_type": "markdown",
   "metadata": {},
   "source": [
    "$T$ is the time interval, and $h$ is the time step. We know that the Poincaré-cut for the Hénon-Heiles system with $H_0 = \\frac{1}{12}$ should be a closed curve\\[1\\]. We can observe from $\\bf{\\text{Figure 14}}$ that Kahan's method and Störmer-Verlet method manages to do this for a time interval of $T = 10^6$s and step size $h = 0.1$s. Kutta's method manages to preserve this property to some degree, but is much better at it when $T = 10^5$s and $h = 0.01$s. It is apparent from the figure that the Shampine-Bogacki method does not fare well with long time intervals and large time steps. The fact that the curve is closed when $T = 10^5$s and $h = 0.01$s, supports our results from problem 2, that Shampine-Bogacki method is only accurate for lower time intervals, unless the step size is extremely small. Because Kutta's method is of higher order, it would take a larger time interval to observe the same, but we should expect the same results at some point. "
   ]
  },
  {
   "cell_type": "markdown",
   "metadata": {},
   "source": [
    "## Conclusion\n",
    "\n",
    "In this project we have discussed the properties of various numerical methods, by studying their application on the Hénon-Heiles system. We have noticed that rate of convergence is not the only property to consider when choosing a numerical method when solving a problem. For problems dealing with shorter time intervals, methods such as Kutta's method or the Shampine-Bogacki method, will yield more accurate results. If we, however, were to study systems in larger time frames, methods such as Störmer-Verlet method and Kahan's method would be preferable. "
   ]
  },
  {
   "cell_type": "markdown",
   "metadata": {},
   "source": [
    "## Sources\n",
    "\n",
    "\\[1\\] Project description, \"TMA4320 - Prosjekt 3 - 2021\", March 25, 2021\n",
    "\n",
    "\\[2\\] The SciPy community, scipy.integrate.RK45 \\[internet\\]. \\[Last updated 25 March 2021, Accessed 15 April 2021\\]. Available from: https://docs.scipy.org/doc/scipy/reference/generated/scipy.integrate.RK45.html\n",
    "\n",
    "\\[3\\] Hairer E, Lubich C, Wanner G. Geometrical Numerical Integration Structur-Preserving Algorithms for Ordinary Differential Equations \\[internet\\]. Heidelberg: Springer; 2006 \\[Accessed 17 April 2021\\]. Available from: http://www.mat.unimi.it/users/sansotte/pdf_files/hamsys/HaiLubWan-2006.pdf\n",
    "\n",
    "\\[4\\] Celledoni E, McLachlan RI, Owren B. Geometric properties of Kahan's method \\[article\\]. Trondheim: NTNU; 2012. Available from: https://arxiv.org/pdf/1209.1164.pdf?fbclid=IwAR3MZ12ElEHh9r_1nw8T04-443_KQunVoVKXT6iQAX_Ttu3n1AESewiSArw\n",
    "\n",
    "\\[5\\] wikipedia.org. Symplectic integrator. \\[Last updated 25 December 2020\\]. Available from: https://en.wikipedia.org/wiki/Symplectic_integrator"
   ]
  }
 ],
 "metadata": {
  "interpreter": {
   "hash": "31f2aee4e71d21fbe5cf8b01ff0e069b9275f58929596ceb00d14d90e3e16cd6"
  },
  "kernelspec": {
   "display_name": "Python 3.8.10 64-bit (windows store)",
   "language": "python",
   "name": "python3"
  },
  "language_info": {
   "codemirror_mode": {
    "name": "ipython",
    "version": 3
   },
   "file_extension": ".py",
   "mimetype": "text/x-python",
   "name": "python",
   "nbconvert_exporter": "python",
   "pygments_lexer": "ipython3",
   "version": "3.8.10"
  },
  "metadata": {
   "interpreter": {
    "hash": "3717b9e1f474426e4c8c8bf2f6b52658e3eac55c1b51a978109dccf7d78d3895"
   }
  },
  "orig_nbformat": 2
 },
 "nbformat": 4,
 "nbformat_minor": 2
}
