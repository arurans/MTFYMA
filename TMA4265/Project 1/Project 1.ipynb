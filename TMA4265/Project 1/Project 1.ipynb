{
 "cells": [
  {
   "cell_type": "code",
   "execution_count": 1,
   "id": "d2d15ce7",
   "metadata": {},
   "outputs": [],
   "source": [
    "import numpy as np\n",
    "from matplotlib import pyplot as plt\n",
    "from numba import jit\n",
    "from time import time\n",
    "import random"
   ]
  },
  {
   "cell_type": "code",
   "execution_count": 2,
   "id": "c1cd9d50",
   "metadata": {},
   "outputs": [],
   "source": [
    "def plotCommands(xlabel, ylabel, title, xscale = False, yscale = False, legend = False, printString = \"\"):\n",
    "    #Function containing the usual commands when plotting with matplotlib.pyplot\n",
    "    #If log-scaled x- and/or y-axis is needed, set xscale and/or yscale to True\n",
    "    #If the figure has a label, set legend = True\n",
    "    #If extra information is needed, use printString\n",
    "    plt.xlabel(xlabel, size = 20)\n",
    "    plt.ylabel(ylabel, size = 20)\n",
    "    plt.title(title, size = 27)\n",
    "    if xscale:\n",
    "        plt.xscale('log')\n",
    "    if yscale:\n",
    "        plt.yscale('log')\n",
    "    if legend:\n",
    "        plt.legend()\n",
    "    plt.grid()\n",
    "    if printString:\n",
    "        print(printString)\n",
    "    plt.show()\n",
    "    return None"
   ]
  },
  {
   "cell_type": "code",
   "execution_count": 3,
   "id": "b099e535",
   "metadata": {},
   "outputs": [],
   "source": [
    "plt.rcParams[\"figure.figsize\"] = (15, 7) #Increase figure size"
   ]
  },
  {
   "cell_type": "code",
   "execution_count": 4,
   "id": "aea5ee06",
   "metadata": {},
   "outputs": [],
   "source": [
    "alpha = 0.005\n",
    "beta = 0.01\n",
    "gamma = 0.10\n",
    "\n",
    "P = np.array([\n",
    "    [1-beta, beta, 0],\n",
    "    [0, 1-gamma, gamma],\n",
    "    [alpha, 0, 1-alpha]\n",
    "])\n",
    "\n",
    "P_modified = np.array([\n",
    "    [1 - beta, 1, 0],\n",
    "    [0, 1-gamma, 1],\n",
    "    [alpha, 0, 1]\n",
    "])"
   ]
  },
  {
   "cell_type": "markdown",
   "id": "50066e32",
   "metadata": {},
   "source": [
    "As we're comparing the randomly selected number to the first number larger than it, and we only have two non-zero elements in each row, we set the second non-zero element to be 1. The transition probability remains the same, however we can do an efficient check to determine the next state."
   ]
  },
  {
   "cell_type": "markdown",
   "id": "53c9f1f8",
   "metadata": {},
   "source": [
    "# Problem 1c)"
   ]
  },
  {
   "cell_type": "code",
   "execution_count": 5,
   "id": "d8ecb4b0",
   "metadata": {},
   "outputs": [],
   "source": [
    "@jit(nopython = True)\n",
    "def simulate_individual(P, X0 = 0, n = 7300):\n",
    "    \"\"\"\n",
    "    Simulates an individual for n days.\n",
    "    \n",
    "    Arguments\n",
    "    ---------------------------------------\n",
    "    P: NxN square matrix\n",
    "        Transition probability matrix\n",
    "    X0: int\n",
    "        Initial state (0, 1 or 2)\n",
    "    n: int\n",
    "        Number of days to be simulated\n",
    "        \n",
    "    Returns\n",
    "    ---------------------------------------\n",
    "    pi: 1x3 array (1x(number of states))\n",
    "        Simulated long-run mean\n",
    "    \"\"\"\n",
    "    \n",
    "    state = np.zeros(n, dtype = np.intc)#The state (either 0, 1 or 2) for all times\n",
    "    state[0] = int(X0)#Initial state\n",
    "    \n",
    "    \n",
    "    random = np.random.random(n)\n",
    "    for i in range(1, n):\n",
    "        #Find the transition probabilities from state i-1\n",
    "        #Then find the first element in array greater than random, index determines state i\n",
    "        state[i] = np.where(P[state[i-1]]>random[i])[0][0] \n",
    "        \n",
    "    last_half = n//2#We are only interested in estimating based on the last half\n",
    "    state_last_half = state[last_half:]\n",
    "    last_half = np.float64(last_half)\n",
    "    pi_0 = (state_last_half == 0).sum()#Count number of state 0 in the last half of array\n",
    "    pi_1 = (state_last_half == 1).sum()\n",
    "    pi_2 = (state_last_half == 2).sum()\n",
    "        \n",
    "    pi = np.array([pi_0, pi_1, pi_2]).T/last_half #Compute estimated long mean run\n",
    "    \n",
    "    return pi\n",
    "\n",
    "def simulate_multiple_times(P, X0 = 0, M = 30):\n",
    "    \"\"\"\n",
    "    Simulates an individual M times.\n",
    "    \n",
    "    Arguments\n",
    "    ---------------------------------------\n",
    "    P: NxN square matrix\n",
    "        Transition probability matrix\n",
    "    X0: int\n",
    "        Initial state (0, 1 or 2)\n",
    "    M: int\n",
    "        Number of times to be simulated\n",
    "        \n",
    "    Returns\n",
    "    ---------------------------------------\n",
    "    pi: 1x3 array (number of states)\n",
    "        Average long-run mean (expectation value)\n",
    "    std: 1x3 array (number of states)\n",
    "        Standard deviation of each pi_i\n",
    "    \"\"\"\n",
    "    \n",
    "    pi_estimates = np.zeros((3, M))\n",
    "    for i in range(M):\n",
    "        pi_estimates[:,i] = simulate_individual(P)\n",
    "    \n",
    "    #Calculate average of every pi_i\n",
    "    pi = np.array([np.average(pi_estimates[0]), np.average(pi_estimates[1]), np.average(pi_estimates[2])])\n",
    "    #Compute the variance of each pi_i\n",
    "    std = np.sqrt(np.array([np.var(pi_estimates[0]), np.var(pi_estimates[1]), np.var(pi_estimates[2])])/(M-1))\n",
    "    \n",
    "    return pi, std"
   ]
  },
  {
   "cell_type": "code",
   "execution_count": 6,
   "id": "07b6a078",
   "metadata": {},
   "outputs": [
    {
     "name": "stdout",
     "output_type": "stream",
     "text": [
      "Execution time:  0.6297190189361572\n",
      "Estimated pi:  [0.32385388 0.02912329 0.64702283]\n",
      "Standard deviation:  [0.01670755 0.00198641 0.01761066]\n"
     ]
    }
   ],
   "source": [
    "#Estimated pi\n",
    "start = time()\n",
    "pi, std = simulate_multiple_times(P_modified)\n",
    "print(\"Execution time: \", time() - start)\n",
    "print(\"Estimated pi: \", pi)\n",
    "print(\"Standard deviation: \", std)"
   ]
  },
  {
   "cell_type": "code",
   "execution_count": 7,
   "id": "00747ca4",
   "metadata": {},
   "outputs": [
    {
     "name": "stdout",
     "output_type": "stream",
     "text": [
      "[[0.29110709 0.02522993 0.61250593]\n",
      " [0.35660067 0.03301665 0.68153973]]\n"
     ]
    }
   ],
   "source": [
    "#Confidence interval for each of the pi_i\n",
    "#First column for pi_1, second for pi_2 and thrid for pi_3\n",
    "konf = np.array([pi - 1.960*std, pi + 1.960*std])\n",
    "print(konf)"
   ]
  },
  {
   "cell_type": "markdown",
   "id": "62c714b7",
   "metadata": {},
   "source": [
    "# Problem 1e)"
   ]
  },
  {
   "cell_type": "code",
   "execution_count": 8,
   "id": "d4fb582d",
   "metadata": {},
   "outputs": [],
   "source": [
    "@jit(nopython = True)\n",
    "def simulate_Y(Y0, alpha = 0.005, gamma = 0.10, n = 300, N = 1000):\n",
    "    \"\"\"\n",
    "    Simulates N individuals over n time-steps.\n",
    "    \n",
    "    Arguments\n",
    "    ---------------------------------------\n",
    "    Y0: numpy-array with length 3\n",
    "        Initial condition for the simulation of the form Y = [Susceptible, Infected, Recovered] at time 0\n",
    "    alpha: float\n",
    "        probability of recovered individual getting susceptible, default 0.005\n",
    "    gamma: float\n",
    "        probability of infected individual becoming recovered, default 0.10\n",
    "    n: int\n",
    "        Number of time-steps, default 300\n",
    "    N: int\n",
    "        Number of individuals in the population, default 1000\n",
    "        \n",
    "    Returns\n",
    "    ---------------------------------------\n",
    "    Y: 3x(n+1) matrix\n",
    "        Number of susceptible, infected and recovered individuals at each time step\n",
    "    \"\"\"\n",
    "    Y = np.zeros((Y0.size, n + 1), dtype = np.intc)\n",
    "    Y[:,0] = Y0\n",
    "\n",
    "    for i in range (1, n + 1):\n",
    "        BinS = np.random.binomial(Y[0,i-1],0.5*Y[1,i-1]/N)#Binomial distribution of susceptible individuals becoming infected\n",
    "        BinI = np.random.binomial(Y[1,i-1],gamma)#Binomial distribution of infected individuals becoming recovered\n",
    "        BinR = np.random.binomial(Y[2,i-1],alpha)#Binomial distribution of recovered individuals becoming suscaptible\n",
    "        Y[0,i] = Y[0,i-1] + (BinR-BinS)\n",
    "        Y[1,i] = Y[1,i-1] + (BinS-BinI)\n",
    "        Y[2,i] = Y[2,i-1] + (BinI-BinR)\n",
    "    return Y"
   ]
  },
  {
   "cell_type": "code",
   "execution_count": 9,
   "id": "ceb5757f",
   "metadata": {},
   "outputs": [],
   "source": [
    "# #Simulate for one population once\n",
    "# Y0=np.array([950, 50, 0])\n",
    "# start = time()\n",
    "# Y=simulate_Y(Y0)\n",
    "# print(\"Execution time: \", time() - start)"
   ]
  },
  {
   "cell_type": "code",
   "execution_count": 10,
   "id": "c3a51ba3",
   "metadata": {},
   "outputs": [
    {
     "data": {
      "text/plain": [
       "' #If every time-step followed expected transition\\nn = 300\\nresult = np.zeros([3,n+1])\\n\\nresult[0][0] = 950\\nresult[1][0] = 50\\n\\nfor i in range(1,n+1):\\n    result[0][i] = result[0][i-1] - result[0][i-1]*result[1][i-1]/2000 + result[2][i-1]/200\\n    result[1][i] = result[1][i-1] + result[0][i-1]*result[1][i-1]/2000 - result[1][i-1]/10\\n    result[2][i] = result[2][i-1] + result[1][i-1]/10 - result[2][i-1]/200 '"
      ]
     },
     "execution_count": 10,
     "metadata": {},
     "output_type": "execute_result"
    }
   ],
   "source": [
    "\"\"\" #If every time-step followed expected transition\n",
    "n = 300\n",
    "result = np.zeros([3,n+1])\n",
    "\n",
    "result[0][0] = 950\n",
    "result[1][0] = 50\n",
    "\n",
    "for i in range(1,n+1):\n",
    "    result[0][i] = result[0][i-1] - result[0][i-1]*result[1][i-1]/2000 + result[2][i-1]/200\n",
    "    result[1][i] = result[1][i-1] + result[0][i-1]*result[1][i-1]/2000 - result[1][i-1]/10\n",
    "    result[2][i] = result[2][i-1] + result[1][i-1]/10 - result[2][i-1]/200 \"\"\""
   ]
  },
  {
   "cell_type": "code",
   "execution_count": 11,
   "id": "53038e10",
   "metadata": {},
   "outputs": [],
   "source": [
    "# #Plot one simulation of a population over 300 days\n",
    "# x = np.arange(301)\n",
    "# x_axis = np.arange(0, 301, 25)\n",
    "# y = np.arange(0, 1001, 100)\n",
    "# plt.scatter(x, Y[0],marker='o',color='blue')\n",
    "# plt.scatter(x, Y[1],marker='o',color='red')\n",
    "# plt.scatter(x, Y[2],marker='o',color='green')\n",
    "# plt.xticks(x_axis, x_axis, size = 20)\n",
    "# plt.yticks(y, y, size = 20)\n",
    "# #plt.plot(x,result[1],color=\"black\")\n",
    "# #plt.plot(x,result[0],color=\"black\")\n",
    "# #plt.plot(x,result[2],color=\"black\")\n",
    "# plt.legend([\"Susceptible\",\"Infected\",\"Recovered\"])#\"Expected distribution\",\n",
    "# plotCommands(\"Days\", \"Number of individuals\", \"Number of susceptible, infected and recovered for 300 days\")\n",
    "\n",
    "# plt.show()"
   ]
  },
  {
   "cell_type": "code",
   "execution_count": 12,
   "id": "7b3a314a",
   "metadata": {},
   "outputs": [],
   "source": [
    "def plot1e():\n",
    "    #Simulate for one population once\n",
    "    Y0=np.array([950, 50, 0])\n",
    "    start = time()\n",
    "    Y=simulate_Y(Y0)\n",
    "    print(\"Execution time: \", time() - start)\n",
    "    #Plot one simulation of a population over 300 days\n",
    "    x = np.arange(301)\n",
    "    x_axis = np.arange(0, 301, 25)\n",
    "    y = np.arange(0, 1001, 100)\n",
    "    plt.scatter(x, Y[0],marker='o',color='blue')\n",
    "    plt.scatter(x, Y[1],marker='o',color='red')\n",
    "    plt.scatter(x, Y[2],marker='o',color='green')\n",
    "    plt.xticks(x_axis, x_axis, size = 20)\n",
    "    plt.yticks(y, y, size = 20)\n",
    "    #plt.plot(x,result[1],color=\"black\")\n",
    "    #plt.plot(x,result[0],color=\"black\")\n",
    "    #plt.plot(x,result[2],color=\"black\")\n",
    "    plt.legend([\"Susceptible\",\"Infected\",\"Recovered\"])#\"Expected distribution\",\n",
    "    plotCommands(\"Days\", \"Number of individuals\", \"Number of susceptible, infected and recovered for 300 days\")\n",
    "\n",
    "    plt.show()"
   ]
  },
  {
   "cell_type": "code",
   "execution_count": 21,
   "id": "3d0b91c8",
   "metadata": {},
   "outputs": [
    {
     "name": "stdout",
     "output_type": "stream",
     "text": [
      "Execution time:  0.000255584716796875\n"
     ]
    },
    {
     "data": {
      "image/png": "[encoded data removed]",
      "text/plain": [
       "<Figure size 1080x504 with 1 Axes>"
      ]
     },
     "metadata": {
      "needs_background": "light"
     },
     "output_type": "display_data"
    }
   ],
   "source": [
    "plot1e()"
   ]
  },
  {
   "cell_type": "markdown",
   "id": "927d56c4",
   "metadata": {},
   "source": [
    "# Problem 1f)"
   ]
  },
  {
   "cell_type": "code",
   "execution_count": 14,
   "id": "cb45c08d",
   "metadata": {},
   "outputs": [],
   "source": [
    "@jit(nopython = True)\n",
    "def expected_Y(Y0, n = 300, N = 1000, M = 1000):\n",
    "    \"\"\"\n",
    "    Simulates M individuals over n time-steps, N times.\n",
    "    \n",
    "    Arguments\n",
    "    ---------------------------------------\n",
    "    Y0: numpy-array with length 3\n",
    "        Initial condition for the simulation of the form Y = [Susceptible, Infected, Recovered] at time 0\n",
    "    n: int\n",
    "        Number of time-steps, default 300\n",
    "    N: int\n",
    "        Number of time the a population must be simulated, default 1000\n",
    "    M: int\n",
    "        number of individuals in the population, default 1000\n",
    "        \n",
    "    Returns\n",
    "    ---------------------------------------\n",
    "    I_expected.sum(axis = 1)/N: 1xn numpy array\n",
    "        Average of maximum infected people each day over 1000 simulations\n",
    "    I: 1x4 numpy array\n",
    "        Element:\n",
    "            0: Expected number of maximum number of infected people in a simulation\n",
    "            1: Variance in the value above\n",
    "            2: Expected time for maximum infected people [days]\n",
    "            3: Variance in the value above\n",
    "    \"\"\"\n",
    "    I_expected = np.zeros((n + 1, N), dtype = np.float64)#Maximum number of ingected people each day for every time step\n",
    "    I_max_value = np.zeros(N, dtype = np.float64)#Maximum number of infected people in a day each simulation\n",
    "    I_max_expected_time = np.zeros(N, dtype = np.float64)#Time of maximum number of people each simulation\n",
    "\n",
    "    for i in range(N):\n",
    "        Y = simulate_Y(Y0, n = n, N = M)[1]#We only need the data over infected people for each time step\n",
    "        I_expected[:,i] = Y#Store each simulation in a column\n",
    "        max_index = np.argmax(Y)\n",
    "        I_max_value[i] = Y[max_index]\n",
    "        I_max_expected_time[i] = max_index\n",
    "        \n",
    "    I = np.array([I_max_value.sum()/N, np.sqrt(np.var(I_max_value)/(N-1)), I_max_expected_time.sum()/N, np.sqrt(np.var(I_max_expected_time)/(N-1))])\n",
    "    \n",
    "    return I_expected.sum(axis = 1)/N, I"
   ]
  },
  {
   "cell_type": "code",
   "execution_count": 15,
   "id": "6096fdd8",
   "metadata": {},
   "outputs": [
    {
     "ename": "NameError",
     "evalue": "name 'Y0' is not defined",
     "output_type": "error",
     "traceback": [
      "\u001b[0;31m---------------------------------------------------------------------------\u001b[0m",
      "\u001b[0;31mNameError\u001b[0m                                 Traceback (most recent call last)",
      "\u001b[0;32m/tmp/ipykernel_449/618900119.py\u001b[0m in \u001b[0;36m<module>\u001b[0;34m\u001b[0m\n\u001b[1;32m      1\u001b[0m \u001b[0;31m#Simulates 1000 individuals over 300 days, 1000 times.\u001b[0m\u001b[0;34m\u001b[0m\u001b[0;34m\u001b[0m\u001b[0;34m\u001b[0m\u001b[0m\n\u001b[1;32m      2\u001b[0m \u001b[0mstart\u001b[0m \u001b[0;34m=\u001b[0m \u001b[0mtime\u001b[0m\u001b[0;34m(\u001b[0m\u001b[0;34m)\u001b[0m\u001b[0;34m\u001b[0m\u001b[0;34m\u001b[0m\u001b[0m\n\u001b[0;32m----> 3\u001b[0;31m \u001b[0mI_expected\u001b[0m\u001b[0;34m,\u001b[0m \u001b[0mI\u001b[0m \u001b[0;34m=\u001b[0m \u001b[0mexpected_Y\u001b[0m\u001b[0;34m(\u001b[0m\u001b[0mY0\u001b[0m\u001b[0;34m)\u001b[0m\u001b[0;34m\u001b[0m\u001b[0;34m\u001b[0m\u001b[0m\n\u001b[0m\u001b[1;32m      4\u001b[0m \u001b[0mprint\u001b[0m\u001b[0;34m(\u001b[0m\u001b[0;34m\"Execution time: \"\u001b[0m\u001b[0;34m,\u001b[0m \u001b[0mtime\u001b[0m\u001b[0;34m(\u001b[0m\u001b[0;34m)\u001b[0m \u001b[0;34m-\u001b[0m \u001b[0mstart\u001b[0m\u001b[0;34m)\u001b[0m\u001b[0;34m\u001b[0m\u001b[0;34m\u001b[0m\u001b[0m\n\u001b[1;32m      5\u001b[0m \u001b[0mprint\u001b[0m\u001b[0;34m(\u001b[0m\u001b[0;34m\"Expected number of maximum infected [people]: \"\u001b[0m\u001b[0;34m,\u001b[0m \u001b[0mI\u001b[0m\u001b[0;34m[\u001b[0m\u001b[0;36m0\u001b[0m\u001b[0;34m]\u001b[0m\u001b[0;34m)\u001b[0m\u001b[0;34m\u001b[0m\u001b[0;34m\u001b[0m\u001b[0m\n",
      "\u001b[0;31mNameError\u001b[0m: name 'Y0' is not defined"
     ]
    }
   ],
   "source": [
    "#Simulates 1000 individuals over 300 days, 1000 times.\n",
    "start = time()\n",
    "I_expected, I = expected_Y(Y0)\n",
    "print(\"Execution time: \", time() - start)\n",
    "print(\"Expected number of maximum infected [people]: \", I[0])\n",
    "print(\"Standard deviation of maximum number infected: \", I[1])\n",
    "print(\"Expected time of maximum infected [days]: \", I[2])\n",
    "print(\"Standard deviation of time of maximum infected: \", I[3])"
   ]
  },
  {
   "cell_type": "code",
   "execution_count": null,
   "id": "f9d2f027",
   "metadata": {},
   "outputs": [],
   "source": [
    "Konf_1 = [I[0]-I[1]*1.960,I[0]+I[1]*1.960]\n",
    "print(Konf_1)\n",
    "Konf_2 = [I[2]-I[3]*1.960,I[2]+I[3]*1.960] \n",
    "print(Konf_2)"
   ]
  },
  {
   "cell_type": "markdown",
   "id": "db855f6f",
   "metadata": {},
   "source": [
    "# Problem 1g)"
   ]
  },
  {
   "cell_type": "code",
   "execution_count": null,
   "id": "e39f1424",
   "metadata": {},
   "outputs": [],
   "source": [
    "def simulate_herd_immunity(Y0, n = 300, N = 1000, M = 1000):\n",
    "    \"\"\"\n",
    "    Simulates M individuals over n time-steps, N times, where some of the individuals might be vaccinated.\n",
    "    \n",
    "    Arguments\n",
    "    ---------------------------------------\n",
    "    Y0: numpy-matrix with dimension 3xL, where L is the number of initial conditions\n",
    "        Initial condition for the simulation of the form Y = [Susceptible, Infected, Recovered] at time 0\n",
    "    n: int\n",
    "        Number of time-steps, default 300\n",
    "    N: int\n",
    "        Number of time the a population must be simulated, default 1000\n",
    "    M: int\n",
    "        number of individuals in the population, default 1000\n",
    "        \n",
    "    Returns\n",
    "    ---------------------------------------\n",
    "    Y: \n",
    "    expected_time: 1xL numpy array\n",
    "        Expected time of maximum infected for each initial condition\n",
    "    expected_max_infected: 1xL numpy array\n",
    "        Expected number of maximum infected [people] for each initial condition\n",
    "    \"\"\"\n",
    "\n",
    "    m = len((Y0[0]))\n",
    "    Y = np.zeros((m, n + 1))\n",
    "    expected_time = np.zeros(m)\n",
    "    expected_max_infected = np.zeros(m)\n",
    "    for i in range(m):\n",
    "        Y[i], expected = expected_Y(Y0[:,i], n = n, N = N, M = M)\n",
    "        expected_time[i] = expected[2]\n",
    "        expected_max_infected[i] = expected[0]\n",
    "    \n",
    "    return Y, expected_time, expected_max_infected"
   ]
  },
  {
   "cell_type": "code",
   "execution_count": null,
   "id": "d92a94ac",
   "metadata": {},
   "outputs": [],
   "source": [
    "#Simulate herd-immunity\n",
    "#In practice vaccinated people can be removed from the susceptible row,\n",
    "#but we still use N = 1000 to calculate beta\n",
    "Y0_1 = np.array([\n",
    "    [950, 850, 350, 150],\n",
    "    [50, 50, 50, 50],\n",
    "    [0, 0 ,0 ,0]\n",
    "])\n",
    "\n",
    "start = time()\n",
    "Y, expected_time, expected_max_infected = simulate_herd_immunity(Y0_1)\n",
    "print(\"Execution time: \", time() - start)\n",
    "print(\"Expected number of maximum infected [people]: \", expected_max_infected)\n",
    "print(\"Expected time of maximum infected [days]: \", expected_time)"
   ]
  },
  {
   "cell_type": "code",
   "execution_count": null,
   "id": "82a44103",
   "metadata": {},
   "outputs": [],
   "source": [
    "#Plot number of maximum infected individuals over 300 days for each of the initial conditions.\n",
    "x = np.arange(301)\n",
    "x_axis = np.arange(0, 301, 25)\n",
    "y = np.arange(0, 601, 100)\n",
    "plt.scatter(x, Y[0],marker='o',color='blue')\n",
    "plt.scatter(x, Y[1],marker='o',color='red')\n",
    "plt.scatter(x, Y[2],marker='o',color='green')\n",
    "plt.scatter(x, Y[3],marker='o',color='magenta')\n",
    "plt.xticks(x_axis, x_axis, size = 20)\n",
    "plt.yticks(y, y, size = 20)\n",
    "plt.legend([\"0 vaccinated\",\"100 vaccinated\",\"600 vaccinated\", \"800 vaccinated\"])\n",
    "plotCommands(\"Days\", \"Number of individuals\", \"Number of infected individuals over 300 days\")\n",
    "\n",
    "plt.show()"
   ]
  },
  {
   "cell_type": "markdown",
   "id": "77168d11",
   "metadata": {},
   "source": [
    "# Problem 2a)"
   ]
  },
  {
   "cell_type": "code",
   "execution_count": null,
   "id": "1b541bd3",
   "metadata": {},
   "outputs": [],
   "source": [
    "#Finding the probability to get more then a 100 for a poisson distribution with expected value at 88.5\n",
    "Pr = 1\n",
    "for x in range(101):\n",
    "    Pr-=88.5**x*np.e**(-88.5)/np.math.factorial(x)\n",
    "    \n",
    "print(Pr)\n",
    " "
   ]
  },
  {
   "cell_type": "code",
   "execution_count": null,
   "id": "852e76d1",
   "metadata": {},
   "outputs": [],
   "source": [
    "@jit(nopython = True)\n",
    "def poisson_arrival(l = 1.5, t_max = 59):\n",
    "    \"\"\"\n",
    "    The time it takes for each of the claims to arrive in t_max time interval\n",
    "    \n",
    "    Arguments\n",
    "    ---------------------------------------\n",
    "    l: float\n",
    "        lambda-parameter for the poisson-distribution, default 1.5\n",
    "    t_max: int\n",
    "        time interval, default 59\n",
    "\n",
    "    Returns\n",
    "    ---------------------------------------\n",
    "    times[:-1]: numpy-array\n",
    "        Array with all the times the claims arrived. Last element is left out, because it includes a time step greater than t_max.\n",
    "    \"\"\"\n",
    "    time = 0\n",
    "    times = []\n",
    "\n",
    "    while(time <= t_max):\n",
    "        t = random.expovariate(l)#Simulate the time it takes for a poission-event to occur given a parameter lambda\n",
    "        time += t\n",
    "        times.append(time)\n",
    "        \n",
    "    return times[:-1]\n",
    "\n",
    "@jit(nopython = True)\n",
    "def expected_poisson(l = 1.5, t_max = 59, N = 1000, claim_number = 100):\n",
    "    \"\"\"\n",
    "    Simulate a poisson process N times, and check the fraction of the claims greater than claim_number\n",
    "    \n",
    "    Arguments\n",
    "    ---------------------------------------\n",
    "    l: float\n",
    "        lambda-parameter for the poisson-distribution, default 1.5\n",
    "    t_max: int\n",
    "        time interval, default 59\n",
    "    N: int\n",
    "        Number of times to be simulated, default 1000\n",
    "    claim_number: int\n",
    "        Number of claims that the probability is computed for\n",
    "        \n",
    "    Returns\n",
    "    ---------------------------------------\n",
    "    prob/N: float\n",
    "        The fractions of claims that are greater than claim_number\n",
    "    \"\"\"\n",
    "    prob = 0\n",
    "    for i in range(N):\n",
    "        times = poisson_arrival(l = l, t_max = t_max)\n",
    "        if len(times) > claim_number:\n",
    "            prob += 1\n",
    "\n",
    "    return prob/N"
   ]
  },
  {
   "cell_type": "code",
   "execution_count": null,
   "id": "a47268fa",
   "metadata": {},
   "outputs": [],
   "source": [
    "start = time()\n",
    "ex = expected_poisson()\n",
    "print(\"Execution time: \", time() - start)\n",
    "print(\"Probability of total claims to exceed 100: \", ex)"
   ]
  },
  {
   "cell_type": "code",
   "execution_count": null,
   "id": "cab288ba",
   "metadata": {},
   "outputs": [],
   "source": [
    "#Plot the cumulative sum of the poisson process of the number of claims in 59 days (10 realizations)\n",
    "realizations1 = 10\n",
    "x_1 = np.arange(0, 61, 10)\n",
    "y = np.arange(0, 101, 10)\n",
    "cmap = [\"magenta\", \"red\", \"blue\", \"green\", \"black\", \"orange\", \"darksalmon\", \"crimson\", \"cyan\", \"darkorchid\"]\n",
    "\n",
    "for i in range(realizations1):\n",
    "    times = poisson_arrival()\n",
    "    for j in range(len(times)-1):\n",
    "        plt.hlines(j, times[j], times[j+1], colors = [cmap[i]])\n",
    "\n",
    "plt.xticks(x_1, x_1, size = 20)\n",
    "plt.yticks(y, y, size = 20)\n",
    "plotCommands(\"Day\", \"Number of claims\", r\"10 realizations of $X(t), 0 \\leq t \\leq 59$\")\n",
    "plt.show()"
   ]
  },
  {
   "cell_type": "markdown",
   "id": "c403734a",
   "metadata": {},
   "source": [
    "# Problem 2b)"
   ]
  },
  {
   "cell_type": "code",
   "execution_count": null,
   "id": "b5e9d843",
   "metadata": {},
   "outputs": [],
   "source": [
    "@jit(nopython = True)\n",
    "def single_amount_simulation(gamma = 10):\n",
    "    \"\"\"\n",
    "    A single exponential-distribution with parameter gamma.\n",
    "    \n",
    "    Arguments\n",
    "    ---------------------------------------\n",
    "    gamma: float\n",
    "        Parameter for exponential distribution, default 10\n",
    "        \n",
    "    Returns\n",
    "    ---------------------------------------\n",
    "    times: numpy-array\n",
    "        The times at which each claim arrived\n",
    "    dist: numpy-array\n",
    "        The exponential distribution of the claim amount for len(times) claims.\n",
    "    \"\"\"\n",
    "    times = poisson_arrival()\n",
    "    dist = np.random.exponential(scale = 1/gamma, size = len(times))\n",
    "    return times, dist\n",
    "\n",
    "def expected_amount(gamma = 10, N = 1000, min_amount = 8):\n",
    "    \"\"\"\n",
    "    Calculate the probability of claims amounting to a value greater than min_amount (millions), after N simulations\n",
    "    \n",
    "    Arguments\n",
    "    ---------------------------------------\n",
    "    gamma: float\n",
    "        Parameter for exponential distribution, default 10\n",
    "    N: int\n",
    "        Number of times to be simulated, default 1000\n",
    "    min_amount: float\n",
    "        The amount the probability is to be calculated\n",
    "        \n",
    "    Returns\n",
    "    ---------------------------------------\n",
    "    prob/N: float\n",
    "        probability of claims amounting to a value greater than min_amount (millions)\n",
    "    \"\"\"\n",
    "    prob = 0\n",
    "    for i in range(N):\n",
    "        times, dist = single_amount_simulation(gamma = gamma)#Simulate number of claims each time, before simulating the total amount\n",
    "        if dist.sum() > min_amount:\n",
    "            prob += 1\n",
    "    return prob/N\n"
   ]
  },
  {
   "cell_type": "code",
   "execution_count": null,
   "id": "3ad58082",
   "metadata": {},
   "outputs": [],
   "source": [
    "start = time()\n",
    "prob = expected_amount()\n",
    "print(\"Execution time: \", time() - start)\n",
    "print(\"Probability of total claim amount to exceed 8 million kroner: \", prob)"
   ]
  },
  {
   "cell_type": "code",
   "execution_count": null,
   "id": "efb0cd50",
   "metadata": {},
   "outputs": [],
   "source": [
    "#Plot the cumulative sum of the claim amount in 59 days (10 realizations)\n",
    "realizations2 = 10\n",
    "x_1 = np.arange(0, 61, 10)\n",
    "y = np.arange(1, 11)\n",
    "cmap = [\"magenta\", \"red\", \"blue\", \"green\", \"black\", \"orange\", \"darksalmon\", \"crimson\", \"cyan\", \"darkorchid\"]\n",
    "\n",
    "for i in range(realizations2):\n",
    "    times, dist = single_amount_simulation()\n",
    "    dist = dist.cumsum()\n",
    "    for j in range(len(times)-1):\n",
    "        plt.hlines(dist[j], times[j], times[j+1], colors = [cmap[i]])\n",
    "    \n",
    "plt.xticks(x_1, x_1, size = 20)\n",
    "plt.yticks(y, y, size = 20)\n",
    "plotCommands(\"Day\", \"Claim amount in million [kroner]\", r\"10 realizations of $Z(t), 0 \\leq t \\leq 59$\")\n",
    "plt.show()"
   ]
  }
 ],
 "metadata": {
  "interpreter": {
   "hash": "66666456dcbe9ea8bf09f667352b6b27961f27e86d9fe6114f49cfac4311156a"
  },
  "kernelspec": {
   "display_name": "Python 3",
   "language": "python",
   "name": "python3"
  },
  "language_info": {
   "codemirror_mode": {
    "name": "ipython",
    "version": 3
   },
   "file_extension": ".py",
   "mimetype": "text/x-python",
   "name": "python",
   "nbconvert_exporter": "python",
   "pygments_lexer": "ipython3",
   "version": "3.8.10"
  }
 },
 "nbformat": 4,
 "nbformat_minor": 5
}
